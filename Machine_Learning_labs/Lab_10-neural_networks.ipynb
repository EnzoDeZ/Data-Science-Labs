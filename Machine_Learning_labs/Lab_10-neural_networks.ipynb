{
  "cells": [
    {
      "cell_type": "markdown",
      "source": [
        "# Introduction to neural networks\n",
        "\n",
        "CREDIT: This practical was inspired by [this Kaggle notebook on neural networks](https://www.kaggle.com/code/prashant111/mnist-deep-neural-network-with-keras)."
      ],
      "metadata": {
        "datalore": {
          "node_id": "GVo10nb36uDS9vJ9EhxcZ4",
          "type": "MD",
          "hide_input_from_viewers": false,
          "hide_output_from_viewers": false,
          "report_properties": {
            "rowId": "JoHk2C319pxhiBaGkNQMDg"
          }
        },
        "id": "9vLowFx9SNaC"
      }
    },
    {
      "cell_type": "markdown",
      "source": [
        "## Setup\n",
        "### Imports"
      ],
      "metadata": {
        "datalore": {
          "node_id": "XRS0rFPXUlRgtEHlNxcpID",
          "type": "MD",
          "hide_input_from_viewers": false,
          "hide_output_from_viewers": false,
          "report_properties": {
            "rowId": "UcaZxTvte2AQBKxsfYBVTL"
          }
        },
        "id": "XV1kcl0oSNaE"
      }
    },
    {
      "cell_type": "code",
      "source": [
        "import pandas as pd                                     # for dataset manipulation (DataFrames)\n",
        "import numpy as np                                      # allows some mathematical operations\n",
        "import matplotlib.pyplot as plt                         # library used to display graphs\n",
        "import seaborn as sns                                   # more convenient visualisation library for dataframes\n",
        "import time                                             # for execution time measurement"
      ],
      "execution_count": null,
      "outputs": [],
      "metadata": {
        "datalore": {
          "node_id": "TbLv57fkMm1TbExf2jVxHh",
          "type": "CODE",
          "hide_input_from_viewers": false,
          "hide_output_from_viewers": false,
          "report_properties": {
            "rowId": "PvEHx5cM4msrC9cCg1cW9N"
          }
        },
        "id": "Euh4l3qxSNaE"
      }
    },
    {
      "cell_type": "markdown",
      "source": [
        "### Neural-networks-related imports\n",
        "\n",
        "There are two main libraries to work with neural networks in Python: `pytorch` (developed by Meta/Facebook) and `tensorflow` (developed by Google).\n",
        "In this practical, we will work with `tensorflow`, and more specifically with a library that makes it easier to use: `keras`.\n",
        "The relevant imports are listed below."
      ],
      "metadata": {
        "datalore": {
          "node_id": "J8ZZ2JPFL7BcDWr9ASgdr5",
          "type": "MD",
          "hide_input_from_viewers": true,
          "hide_output_from_viewers": true
        },
        "id": "IVTwiYuwSNaF"
      }
    },
    {
      "cell_type": "code",
      "source": [
        "# Neural network libraries\n",
        "\n",
        "from keras.models import Sequential\n",
        "from keras.layers import Dense , Activation, Dropout\n",
        "from keras.optimizers import Adam, RMSprop\n",
        "from keras import  backend as K"
      ],
      "execution_count": null,
      "outputs": [],
      "metadata": {
        "datalore": {
          "node_id": "QfScVrHFDjN9Xwj4mdY1lw",
          "type": "CODE",
          "hide_input_from_viewers": true,
          "hide_output_from_viewers": true
        },
        "id": "3U34-EbaSNaG"
      }
    },
    {
      "cell_type": "code",
      "source": [
        "# Ensuring reproductibility\n",
        "\n",
        "import random\n",
        "import tensorflow as tf\n",
        "random.seed(42)\n",
        "np.random.seed(42)\n",
        "tf.random.set_seed(42)"
      ],
      "metadata": {
        "id": "u5sLB7UeS9D4"
      },
      "execution_count": null,
      "outputs": []
    },
    {
      "cell_type": "markdown",
      "source": [
        "## Importing and observing the data\n",
        "\n",
        "For this introduction to neural networks, we will be working with the well-known MNIST handwritten digits dataset.\n",
        "This dataset can be imported directly from `keras`. You'll note that, unlike `scikit-learn`, `keras` already separates the data into a training and test set.\n",
        "\n",
        "Once you have imported the data, answer the following questions:\n",
        "1. What are the shapes of `x_train`, `y_train`, `x_test`, `y_test`? What does it mean?\n",
        "2. What is the proportion of test data?\n",
        "3. How many classes are there? What are they? Are they balanced?"
      ],
      "metadata": {
        "datalore": {
          "node_id": "lqpL20bjkfGlehb5Klwwbt",
          "type": "MD",
          "hide_input_from_viewers": true,
          "hide_output_from_viewers": true
        },
        "id": "yKOpdAr3SNaG"
      }
    },
    {
      "cell_type": "code",
      "source": [
        "from keras.datasets import mnist\n",
        "(x_train, y_train),(x_test, y_test) = mnist.load_data()"
      ],
      "execution_count": null,
      "outputs": [],
      "metadata": {
        "datalore": {
          "node_id": "xboa1kXChth2v07ShH81Br",
          "type": "CODE",
          "hide_input_from_viewers": true,
          "hide_output_from_viewers": true
        },
        "id": "-AKJoj_JSNaG"
      }
    },
    {
      "cell_type": "code",
      "source": [
        "#1. Shape of the datasets\n",
        "\n",
        "print(x_train.shape)\n",
        "print(x_test.shape)\n",
        "print(y_train.shape)\n",
        "print(y_test.shape)"
      ],
      "execution_count": null,
      "outputs": [
        {
          "output_type": "stream",
          "name": "stdout",
          "text": [
            "(60000, 28, 28)\n",
            "(10000, 28, 28)\n",
            "(60000,)\n",
            "(10000,)\n"
          ]
        }
      ],
      "metadata": {
        "datalore": {
          "node_id": "1QwowMEInr22d1UtrgGbJt",
          "type": "CODE",
          "hide_input_from_viewers": true,
          "hide_output_from_viewers": true
        },
        "colab": {
          "base_uri": "https://localhost:8080/"
        },
        "id": "LjylgK1MSNaH",
        "outputId": "a0c27cd8-21db-47e1-b519-e7c78c1080b8"
      }
    },
    {
      "cell_type": "code",
      "source": [
        "#2. Proportion of test data\n",
        "\n",
        "print(len(x_test)/(len(x_train)+len(x_test)))"
      ],
      "metadata": {
        "colab": {
          "base_uri": "https://localhost:8080/"
        },
        "id": "J2sKtVOmN-S7",
        "outputId": "ec2d37eb-ba6c-4fdc-ca54-38fb017cedfb"
      },
      "execution_count": null,
      "outputs": [
        {
          "output_type": "stream",
          "name": "stdout",
          "text": [
            "0.14285714285714285\n"
          ]
        }
      ]
    },
    {
      "cell_type": "code",
      "source": [
        "#3. Class imbalance\n",
        "\n",
        "print(pd.DataFrame(y_train).value_counts())"
      ],
      "metadata": {
        "colab": {
          "base_uri": "https://localhost:8080/"
        },
        "id": "6RFhh7pqQv4t",
        "outputId": "90762b3a-a203-440b-f7b0-fcf19cc63346"
      },
      "execution_count": null,
      "outputs": [
        {
          "output_type": "stream",
          "name": "stdout",
          "text": [
            "1    6742\n",
            "7    6265\n",
            "3    6131\n",
            "2    5958\n",
            "9    5949\n",
            "0    5923\n",
            "6    5918\n",
            "8    5851\n",
            "4    5842\n",
            "5    5421\n",
            "dtype: int64\n"
          ]
        }
      ]
    },
    {
      "cell_type": "markdown",
      "source": [
        "**Answers**\n",
        "\n",
        "1. The first component of the datasets' shape represent the number of observation. The second and third components indicate the number resolution of the image. The product of these components is equal to the number of pixels coding each image.\n",
        "\n",
        "2. The proportion of test data is 14%.\n",
        "\n",
        "3. There are ten classes. The dataset is slightly imbalaced (5421 observations in the minority class versus 6742 in the majority class)."
      ],
      "metadata": {
        "id": "xS4NdMVWO6Iw"
      }
    },
    {
      "cell_type": "markdown",
      "source": [
        "The code below will let you visualize random samples from the training dataset."
      ],
      "metadata": {
        "datalore": {
          "node_id": "zxl9D4XwpHHgd8pYYROIZg",
          "type": "MD",
          "hide_input_from_viewers": true,
          "hide_output_from_viewers": true
        },
        "id": "_4KwVCNKSNaH"
      }
    },
    {
      "cell_type": "code",
      "source": [
        "indexes = np.random.randint(0, x_train.shape[0], size=25)\n",
        "images = x_train[indexes]\n",
        "labels = y_train[indexes]\n",
        "\n",
        "plt.figure(figsize=(5,5))\n",
        "for i in range(len(indexes)):\n",
        "    plt.subplot(5, 5, i + 1)\n",
        "    image = images[i]\n",
        "    plt.imshow(image, cmap='gray')\n",
        "    plt.axis('off')\n",
        "\n",
        "plt.show()"
      ],
      "execution_count": null,
      "outputs": [
        {
          "output_type": "display_data",
          "data": {
            "text/plain": [
              "<Figure size 500x500 with 25 Axes>"
            ],
            "image/png": "[encoded data removed]"
          },
          "metadata": {}
        }
      ],
      "metadata": {
        "datalore": {
          "node_id": "0jpAW6WBdFMloeHUKZPpF6",
          "type": "CODE",
          "hide_input_from_viewers": true,
          "hide_output_from_viewers": true
        },
        "id": "R4fyQh2lSNaI",
        "colab": {
          "base_uri": "https://localhost:8080/",
          "height": 422
        },
        "outputId": "58e869d1-8ad8-4bb1-c50c-994d880761c2"
      }
    },
    {
      "cell_type": "markdown",
      "source": [
        "## Preparing the data\n",
        "\n",
        "1. Determine the minimum and maximum value for pixels in the image.\n",
        "2. Scale `x_train` and `x_test` to make sure their values remain between 0 and 1. This prevents gradients from becoming too large during backpropagation.\n",
        "3. Reshape the matrices so that every input is 1D. For example, `x_train`'s shape should be `(number of samples, size of an image)`.\n",
        "\n",
        "We want the network to output a probability for each class. Therefore, the current representation of labels is not suitable. We need to convert the current labels into binary vectors of size 10. This is called [one-hot encoding](https://en.wikipedia.org/wiki/One-hot)\n",
        "\n",
        "4. Using the `to_categorical` function, perform one-hot encoding for `y_train` and `y_test`.\n",
        "\n",
        "Your data is not ready to be used in a neural network!\n"
      ],
      "metadata": {
        "datalore": {
          "node_id": "patFDqqZ7DPV8WWDVtQFtW",
          "type": "MD",
          "hide_input_from_viewers": true,
          "hide_output_from_viewers": true
        },
        "id": "N6Act5bUSNaI"
      }
    },
    {
      "cell_type": "code",
      "source": [
        "#1. Min and Max value for pixels\n",
        "\n",
        "Min_train = np.amin(x_train)\n",
        "Max_train = np.amax(x_train)\n",
        "Min_test = np.amin(x_test)\n",
        "Max_test = np.amax(x_test)\n",
        "\n",
        "print(Min_train)\n",
        "print(Max_train)\n",
        "print(Min_test)\n",
        "print(Max_test)\n",
        "\n",
        "#2. Scaling\n",
        "\n",
        "x_train = x_train/255\n",
        "x_test = x_test/255"
      ],
      "execution_count": null,
      "outputs": [
        {
          "output_type": "stream",
          "name": "stdout",
          "text": [
            "0\n",
            "255\n",
            "0\n",
            "255\n"
          ]
        }
      ],
      "metadata": {
        "datalore": {
          "node_id": "tYVdxVC8BkXZVEbjl5wOEV",
          "type": "CODE",
          "hide_input_from_viewers": true,
          "hide_output_from_viewers": true
        },
        "id": "APBP5MJcSNaJ",
        "colab": {
          "base_uri": "https://localhost:8080/"
        },
        "outputId": "a1fd57af-810e-41b1-8b33-1f02638205ba"
      }
    },
    {
      "cell_type": "code",
      "source": [
        "#3. Reshape\n",
        "\n",
        "x_train = np.reshape(x_train,(60000,784))\n",
        "x_test = np.reshape(x_test,(10000,784))"
      ],
      "metadata": {
        "id": "YzxJ61U4J73C"
      },
      "execution_count": null,
      "outputs": []
    },
    {
      "cell_type": "code",
      "source": [
        "#4. One-hot encoding\n",
        "\n",
        "import tensorflow as tf\n",
        "\n",
        "y_train = tf.keras.utils.to_categorical(y_train, num_classes=10)\n",
        "y_test = tf.keras.utils.to_categorical(y_test, num_classes=10)"
      ],
      "metadata": {
        "id": "3YM3Ss7QMGZC"
      },
      "execution_count": null,
      "outputs": []
    },
    {
      "cell_type": "markdown",
      "source": [
        "## Building the network\n",
        "\n",
        "In this section, we will build a neural network using `keras`.\n",
        "\n",
        "In the following cell, we define some parameters that will be used in the network."
      ],
      "metadata": {
        "datalore": {
          "node_id": "Z9H9EoAc4o1rR3gvZu0Uyg",
          "type": "MD",
          "hide_input_from_viewers": true,
          "hide_output_from_viewers": true
        },
        "id": "KeZR6rxUSNaJ"
      }
    },
    {
      "cell_type": "code",
      "source": [
        "batch_size = 128 # indicates the number of data that we will use for each update of the model parameters\n",
        "hidden_units = 256 # number of units in the hidden layers\n",
        "dropout = 0.45 # dropout rate"
      ],
      "execution_count": null,
      "outputs": [],
      "metadata": {
        "datalore": {
          "node_id": "tV2Qh0ZCiU4lzdbfzC5ksd",
          "type": "CODE",
          "hide_input_from_viewers": true,
          "hide_output_from_viewers": true
        },
        "id": "I4i_vxVJSNaK"
      }
    },
    {
      "cell_type": "markdown",
      "source": [
        "We will build the network in the following cell. Using the examples provided, complete the network architecture."
      ],
      "metadata": {
        "datalore": {
          "node_id": "m2xubYyz9YwUWBDmclogFs",
          "type": "MD",
          "hide_input_from_viewers": true,
          "hide_output_from_viewers": true
        },
        "id": "28umiUCtSNaK"
      }
    },
    {
      "cell_type": "code",
      "source": [
        "model = Sequential() # initialize the network as a sequence of layers\n",
        "model.add(Dense(hidden_units, input_dim=28*28)) # input_dim corresponds to the input size, i.e. the number of pixels\n",
        "model.add(Activation('relu')) # defines the activation function\n",
        "model.add(Dropout(dropout)) # dropout layers randomly sets input units to 0 to prevent overfitting\n",
        "model.add(Dense(hidden_units)) # add another dense layer here with the same number of units (the input_dim parameter is not required this time)\n",
        "model.add(Activation('relu')) # add another relu activation function\n",
        "model.add(Dropout(dropout)) # add another dropout layer with the same dropout rate\n",
        "model.add(Dense(10)) # add the output layer (dense layer with as many units as there are possible outputs)\n",
        "model.add(Activation('softmax'))# add a softmax activation (the softmax function returns a value between 0 and 1, which is interpreted as a probability)"
      ],
      "execution_count": null,
      "outputs": [],
      "metadata": {
        "datalore": {
          "node_id": "2PT2fxngAJpkIoK8uIj7aX",
          "type": "CODE",
          "hide_input_from_viewers": true,
          "hide_output_from_viewers": true
        },
        "id": "FFhOsZmOSNaL"
      }
    },
    {
      "cell_type": "markdown",
      "source": [
        "## Training the network\n",
        "\n",
        "In order to be used, a model needs to be compiled. In the cell below, explain what each of the parameters are (either as code comments or markdown text)."
      ],
      "metadata": {
        "datalore": {
          "node_id": "RhaRENgqwbzJYeifa2fufF",
          "type": "MD",
          "hide_input_from_viewers": true,
          "hide_output_from_viewers": true
        },
        "id": "BBxjLafmSNaL"
      }
    },
    {
      "cell_type": "code",
      "source": [
        "model.compile(loss='categorical_crossentropy', # Penalty score used as an input for the optimizer.\n",
        "              optimizer='adam',                # Defines how the model's parameters are modified based on its past performance.\n",
        "              metrics=['accuracy'])            # Indicates the performance of the model."
      ],
      "execution_count": null,
      "outputs": [],
      "metadata": {
        "datalore": {
          "node_id": "MhA2A0F4D8YURPihbVicqb",
          "type": "CODE",
          "hide_input_from_viewers": true,
          "hide_output_from_viewers": true
        },
        "id": "SX5mLi8oSNaM"
      }
    },
    {
      "cell_type": "markdown",
      "source": [
        "The model can then be fit to our data and its performance can be measured."
      ],
      "metadata": {
        "datalore": {
          "node_id": "cGqoJ25DXAjvGuwWysooq7",
          "type": "MD",
          "hide_input_from_viewers": true,
          "hide_output_from_viewers": true
        },
        "id": "KOxdZxIuSNaM"
      }
    },
    {
      "cell_type": "code",
      "source": [
        "model.fit(x_train, y_train, epochs=20, batch_size=batch_size)"
      ],
      "execution_count": null,
      "outputs": [
        {
          "output_type": "stream",
          "name": "stdout",
          "text": [
            "Epoch 1/20\n",
            "469/469 [==============================] - 12s 22ms/step - loss: 0.4263 - accuracy: 0.8688\n",
            "Epoch 2/20\n",
            "469/469 [==============================] - 9s 20ms/step - loss: 0.1950 - accuracy: 0.9403\n",
            "Epoch 3/20\n",
            "469/469 [==============================] - 9s 19ms/step - loss: 0.1542 - accuracy: 0.9539\n",
            "Epoch 4/20\n",
            "469/469 [==============================] - 5s 11ms/step - loss: 0.1279 - accuracy: 0.9608\n",
            "Epoch 5/20\n",
            "469/469 [==============================] - 5s 11ms/step - loss: 0.1140 - accuracy: 0.9654\n",
            "Epoch 6/20\n",
            "469/469 [==============================] - 7s 15ms/step - loss: 0.1037 - accuracy: 0.9679\n",
            "Epoch 7/20\n",
            "469/469 [==============================] - 6s 12ms/step - loss: 0.0954 - accuracy: 0.9698\n",
            "Epoch 8/20\n",
            "469/469 [==============================] - 6s 14ms/step - loss: 0.0866 - accuracy: 0.9730\n",
            "Epoch 9/20\n",
            "469/469 [==============================] - 5s 11ms/step - loss: 0.0826 - accuracy: 0.9741\n",
            "Epoch 10/20\n",
            "469/469 [==============================] - 5s 10ms/step - loss: 0.0802 - accuracy: 0.9747\n",
            "Epoch 11/20\n",
            "469/469 [==============================] - 7s 15ms/step - loss: 0.0753 - accuracy: 0.9764\n",
            "Epoch 12/20\n",
            "469/469 [==============================] - 5s 11ms/step - loss: 0.0733 - accuracy: 0.9772\n",
            "Epoch 13/20\n",
            "469/469 [==============================] - 6s 12ms/step - loss: 0.0645 - accuracy: 0.9794\n",
            "Epoch 14/20\n",
            "469/469 [==============================] - 6s 13ms/step - loss: 0.0635 - accuracy: 0.9794\n",
            "Epoch 15/20\n",
            "469/469 [==============================] - 5s 10ms/step - loss: 0.0602 - accuracy: 0.9808\n",
            "Epoch 16/20\n",
            "469/469 [==============================] - 7s 15ms/step - loss: 0.0615 - accuracy: 0.9795\n",
            "Epoch 17/20\n",
            "469/469 [==============================] - 5s 11ms/step - loss: 0.0565 - accuracy: 0.9819\n",
            "Epoch 18/20\n",
            "469/469 [==============================] - 6s 12ms/step - loss: 0.0582 - accuracy: 0.9812\n",
            "Epoch 19/20\n",
            "469/469 [==============================] - 6s 14ms/step - loss: 0.0559 - accuracy: 0.9819\n",
            "Epoch 20/20\n",
            "469/469 [==============================] - 5s 11ms/step - loss: 0.0527 - accuracy: 0.9828\n"
          ]
        },
        {
          "output_type": "execute_result",
          "data": {
            "text/plain": [
              "<keras.src.callbacks.History at 0x782306d23b50>"
            ]
          },
          "metadata": {},
          "execution_count": 15
        }
      ],
      "metadata": {
        "datalore": {
          "node_id": "ll1as327Of5uSJgmaiKlb8",
          "type": "CODE",
          "hide_input_from_viewers": true,
          "hide_output_from_viewers": true
        },
        "id": "J57oD9KLSNaN",
        "colab": {
          "base_uri": "https://localhost:8080/"
        },
        "outputId": "08dd67f9-f731-4737-dda1-d2163cc316b0"
      }
    },
    {
      "cell_type": "code",
      "source": [
        "loss, acc = model.evaluate(x_test, y_test, batch_size=batch_size)\n",
        "print(\"\\nTest accuracy: %.1f%%\" % (100.0 * acc))"
      ],
      "execution_count": null,
      "outputs": [
        {
          "output_type": "stream",
          "name": "stdout",
          "text": [
            "79/79 [==============================] - 1s 9ms/step - loss: 0.0621 - accuracy: 0.9837\n",
            "\n",
            "Test accuracy: 98.4%\n"
          ]
        }
      ],
      "metadata": {
        "datalore": {
          "node_id": "RCQNDNpRxXgkZNkPb6nl4H",
          "type": "CODE",
          "hide_input_from_viewers": true,
          "hide_output_from_viewers": true
        },
        "id": "STH3xlu6SNaN",
        "colab": {
          "base_uri": "https://localhost:8080/"
        },
        "outputId": "89cc24a3-0dce-4e01-83ae-75e0a05f19e4"
      }
    },
    {
      "cell_type": "markdown",
      "source": [
        "Congratulations! You have successfully built and trained a simple neural network!"
      ],
      "metadata": {
        "datalore": {
          "node_id": "8IXkFd9fAZgNVaPRWdykJS",
          "type": "MD",
          "hide_input_from_viewers": true,
          "hide_output_from_viewers": true
        },
        "id": "is6jtSrfSNaN"
      }
    }
  ],
  "metadata": {
    "kernelspec": {
      "display_name": "Python",
      "language": "python",
      "name": "python"
    },
    "datalore": {
      "computation_mode": "JUPYTER",
      "package_manager": "pip",
      "base_environment": "default",
      "packages": [
        {
          "name": "graphviz",
          "version": "0.20.1",
          "source": "PIP"
        }
      ],
      "report_row_ids": [
        "JoHk2C319pxhiBaGkNQMDg",
        "UcaZxTvte2AQBKxsfYBVTL",
        "PvEHx5cM4msrC9cCg1cW9N",
        "88aGZKjbW2yebOUDzoYtf1",
        "fTZ8YWjegGDKILAMu1D44H",
        "HWQmszIy97KJ1RhraFUAj8",
        "JuCjblwngnvBdfqezYhilA",
        "aBltzOrMTRxDSy0ZNPzYHb",
        "WQafdfYaFmr4q44RPvLyJb",
        "HJbPfYQCr5TUK3CPEuiAKs",
        "b9jr8VKK89SanxajR65i20",
        "Xa86OEruzAcfgy1yLvogKb",
        "Ckq38I69B3KQnn3Jbyi3re",
        "EwsEGtNBOPdgD6K6wmAiiD",
        "0p61ATR4JOGt74Cgrd10Nj",
        "P9l3UkPXvxi6tPvYFZV6Lj",
        "T4GPV8l4bUkW9fiHtP1PqI",
        "lVKEpvgJSu6x8mEotFcbO9",
        "1e0m1jgvZl9f5gxqAVVPzV",
        "yB9vNEzq8slDwpUBl5UWhm",
        "RCLbNOz5te9A83IbKRJsTR",
        "hEQmNI6MOoBEBQYnExGp2K",
        "m5bakJ18PgHb9SMNwRKkiu",
        "dq50A9krJH464ellM28HIb"
      ],
      "version": 3
    },
    "colab": {
      "provenance": []
    }
  },
  "nbformat": 4,
  "nbformat_minor": 0
}