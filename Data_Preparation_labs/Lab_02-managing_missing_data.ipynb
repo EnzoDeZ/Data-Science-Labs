{
 "cells":[
  {
   "cell_type":"markdown",
   "source":[
    "# Managing missing data"
   ],
   "attachments":{
    
   },
   "metadata":{
    "datalore":{
     "node_id":"oKMbztSyJfvzeBvzIMw2xr",
     "type":"MD",
     "hide_input_from_viewers":false,
     "hide_output_from_viewers":false,
     "report_properties":{
      "rowId":"rejVo3Ff8AE7h89UYYrvVq"
     }
    }
   }
  },
  {
   "cell_type":"markdown",
   "source":[
    "## Setup\n",
    "### Imports"
   ],
   "attachments":{
    
   },
   "metadata":{
    "datalore":{
     "node_id":"t7VMUKJ9z1y3UGIgROAVwU",
     "type":"MD",
     "hide_input_from_viewers":false,
     "hide_output_from_viewers":false,
     "report_properties":{
      "rowId":"UH7bXvMhbYq7DzwlBnHNqk"
     }
    }
   }
  },
  {
   "cell_type":"code",
   "source":[
    "import pandas as pd                                     # for dataset manipulation (DataFrames)\n",
    "import numpy as np                                      # allows some mathematical operations\n",
    "import matplotlib.pyplot as plt                         # library used to display graphs\n",
    "import seaborn as sns                                   # more convenient visualisation library for dataframes\n",
    "from sklearn.model_selection import train_test_split    # for classification\n",
    "from sklearn.neighbors import KNeighborsClassifier      # for classification"
   ],
   "execution_count":1,
   "outputs":[
    
   ],
   "metadata":{
    "datalore":{
     "node_id":"vj7xIQ3HTSILkO34tqObHB",
     "type":"CODE",
     "hide_input_from_viewers":false,
     "hide_output_from_viewers":false,
     "report_properties":{
      "rowId":"wbwI4BYDIEhfgnwy3yyhYE"
     }
    }
   }
  },
  {
   "cell_type":"markdown",
   "source":[
    "### Loading the dataset"
   ],
   "attachments":{
    
   },
   "metadata":{
    "datalore":{
     "node_id":"aTlBJM7NwlcedViigjMpZO",
     "type":"MD",
     "hide_input_from_viewers":false,
     "hide_output_from_viewers":false,
     "report_properties":{
      "rowId":"XcH70VDXjVZ4X7hNSXE70v"
     }
    }
   }
  },
  {
   "cell_type":"code",
   "source":[
    "df = pd.read_csv(\"diabetes_data.csv\")\n",
    "data_columns = list(df.columns)"
   ],
   "execution_count":2,
   "outputs":[
    
   ],
   "metadata":{
    "datalore":{
     "node_id":"ZmoHZDURA0gJJUH6JlHGXW",
     "type":"CODE",
     "hide_input_from_viewers":false,
     "hide_output_from_viewers":false,
     "report_properties":{
      "rowId":"7MX3Emry5gAwqXkeSX0DmA"
     }
    }
   }
  },
  {
   "cell_type":"markdown",
   "source":[
    "## Data preparation\n",
    "### Preliminary analysis\n",
    "\n",
    "Using what we learned last time, familiarize yourself with the diabetes dataset.\n",
    "What observations can you make ? What problem do you think we are trying to solve with this data ?"
   ],
   "attachments":{
    
   },
   "metadata":{
    "datalore":{
     "node_id":"BH6PHxRCuwSDEiyjyw4GTw",
     "type":"MD",
     "hide_input_from_viewers":false,
     "hide_output_from_viewers":false,
     "report_properties":{
      "rowId":"xvAn49cxGUtyLcwuVqQmIn"
     }
    }
   }
  },
  {
   "cell_type":"markdown",
   "source":[
    "**Answer**\n",
    "\n",
    "This dataset is labeled. It contains 768 observations and 8 features. There are some abnormal values : for example BMI, skin thickness or blood pressure equal to zero. The dataset is not balanced (2 to 1 ratio). The goal with this set is probably to predict if a woman suffers of diabetes, knowing the 8 features of the dataset."
   ],
   "attachments":{
    
   },
   "metadata":{
    "datalore":{
     "node_id":"tKXJFt2bNC3dtPcWkASXwM",
     "type":"MD",
     "hide_input_from_viewers":true,
     "hide_output_from_viewers":true
    }
   }
  },
  {
   "cell_type":"code",
   "source":[
    "df"
   ],
   "execution_count":3,
   "outputs":[
    {
     "data":{
      "text\/html":[
       "<div>\n",
       "<style scoped>\n",
       "    .dataframe tbody tr th:only-of-type {\n",
       "        vertical-align: middle;\n",
       "    }\n",
       "\n",
       "    .dataframe tbody tr th {\n",
       "        vertical-align: top;\n",
       "    }\n",
       "\n",
       "    .dataframe thead th {\n",
       "        text-align: right;\n",
       "    }\n",
       "<\/style>\n",
       "<table border=\"1\" class=\"dataframe\">\n",
       "  <thead>\n",
       "    <tr style=\"text-align: right;\">\n",
       "      <th><\/th>\n",
       "      <th>Pregnancies<\/th>\n",
       "      <th>Glucose<\/th>\n",
       "      <th>BloodPressure<\/th>\n",
       "      <th>SkinThickness<\/th>\n",
       "      <th>Insulin<\/th>\n",
       "      <th>BMI<\/th>\n",
       "      <th>DiabetesPedigreeFunction<\/th>\n",
       "      <th>Age<\/th>\n",
       "      <th>Outcome<\/th>\n",
       "    <\/tr>\n",
       "  <\/thead>\n",
       "  <tbody>\n",
       "    <tr>\n",
       "      <th>0<\/th>\n",
       "      <td>6<\/td>\n",
       "      <td>148<\/td>\n",
       "      <td>72<\/td>\n",
       "      <td>35<\/td>\n",
       "      <td>0<\/td>\n",
       "      <td>33.6<\/td>\n",
       "      <td>0.627<\/td>\n",
       "      <td>50<\/td>\n",
       "      <td>1<\/td>\n",
       "    <\/tr>\n",
       "    <tr>\n",
       "      <th>1<\/th>\n",
       "      <td>1<\/td>\n",
       "      <td>85<\/td>\n",
       "      <td>66<\/td>\n",
       "      <td>29<\/td>\n",
       "      <td>0<\/td>\n",
       "      <td>26.6<\/td>\n",
       "      <td>0.351<\/td>\n",
       "      <td>31<\/td>\n",
       "      <td>0<\/td>\n",
       "    <\/tr>\n",
       "    <tr>\n",
       "      <th>2<\/th>\n",
       "      <td>8<\/td>\n",
       "      <td>183<\/td>\n",
       "      <td>64<\/td>\n",
       "      <td>0<\/td>\n",
       "      <td>0<\/td>\n",
       "      <td>23.3<\/td>\n",
       "      <td>0.672<\/td>\n",
       "      <td>32<\/td>\n",
       "      <td>1<\/td>\n",
       "    <\/tr>\n",
       "    <tr>\n",
       "      <th>3<\/th>\n",
       "      <td>1<\/td>\n",
       "      <td>89<\/td>\n",
       "      <td>66<\/td>\n",
       "      <td>23<\/td>\n",
       "      <td>94<\/td>\n",
       "      <td>28.1<\/td>\n",
       "      <td>0.167<\/td>\n",
       "      <td>21<\/td>\n",
       "      <td>0<\/td>\n",
       "    <\/tr>\n",
       "    <tr>\n",
       "      <th>4<\/th>\n",
       "      <td>0<\/td>\n",
       "      <td>137<\/td>\n",
       "      <td>40<\/td>\n",
       "      <td>35<\/td>\n",
       "      <td>168<\/td>\n",
       "      <td>43.1<\/td>\n",
       "      <td>2.288<\/td>\n",
       "      <td>33<\/td>\n",
       "      <td>1<\/td>\n",
       "    <\/tr>\n",
       "    <tr>\n",
       "      <th>...<\/th>\n",
       "      <td>...<\/td>\n",
       "      <td>...<\/td>\n",
       "      <td>...<\/td>\n",
       "      <td>...<\/td>\n",
       "      <td>...<\/td>\n",
       "      <td>...<\/td>\n",
       "      <td>...<\/td>\n",
       "      <td>...<\/td>\n",
       "      <td>...<\/td>\n",
       "    <\/tr>\n",
       "    <tr>\n",
       "      <th>763<\/th>\n",
       "      <td>10<\/td>\n",
       "      <td>101<\/td>\n",
       "      <td>76<\/td>\n",
       "      <td>48<\/td>\n",
       "      <td>180<\/td>\n",
       "      <td>32.9<\/td>\n",
       "      <td>0.171<\/td>\n",
       "      <td>63<\/td>\n",
       "      <td>0<\/td>\n",
       "    <\/tr>\n",
       "    <tr>\n",
       "      <th>764<\/th>\n",
       "      <td>2<\/td>\n",
       "      <td>122<\/td>\n",
       "      <td>70<\/td>\n",
       "      <td>27<\/td>\n",
       "      <td>0<\/td>\n",
       "      <td>36.8<\/td>\n",
       "      <td>0.340<\/td>\n",
       "      <td>27<\/td>\n",
       "      <td>0<\/td>\n",
       "    <\/tr>\n",
       "    <tr>\n",
       "      <th>765<\/th>\n",
       "      <td>5<\/td>\n",
       "      <td>121<\/td>\n",
       "      <td>72<\/td>\n",
       "      <td>23<\/td>\n",
       "      <td>112<\/td>\n",
       "      <td>26.2<\/td>\n",
       "      <td>0.245<\/td>\n",
       "      <td>30<\/td>\n",
       "      <td>0<\/td>\n",
       "    <\/tr>\n",
       "    <tr>\n",
       "      <th>766<\/th>\n",
       "      <td>1<\/td>\n",
       "      <td>126<\/td>\n",
       "      <td>60<\/td>\n",
       "      <td>0<\/td>\n",
       "      <td>0<\/td>\n",
       "      <td>30.1<\/td>\n",
       "      <td>0.349<\/td>\n",
       "      <td>47<\/td>\n",
       "      <td>1<\/td>\n",
       "    <\/tr>\n",
       "    <tr>\n",
       "      <th>767<\/th>\n",
       "      <td>1<\/td>\n",
       "      <td>93<\/td>\n",
       "      <td>70<\/td>\n",
       "      <td>31<\/td>\n",
       "      <td>0<\/td>\n",
       "      <td>30.4<\/td>\n",
       "      <td>0.315<\/td>\n",
       "      <td>23<\/td>\n",
       "      <td>0<\/td>\n",
       "    <\/tr>\n",
       "  <\/tbody>\n",
       "<\/table>\n",
       "<p>768 rows × 9 columns<\/p>\n",
       "<\/div>"
      ]
     },
     "metadata":{
      
     },
     "output_type":"display_data"
    }
   ],
   "metadata":{
    "datalore":{
     "node_id":"7xrdNkqzSGjD5JfKukma3H",
     "type":"CODE",
     "hide_input_from_viewers":false,
     "hide_output_from_viewers":false,
     "report_properties":{
      "rowId":"bXfw0fXmmSmZXl64CB7rnU"
     }
    }
   }
  },
  {
   "cell_type":"code",
   "source":[
    "df[\"Outcome\"].value_counts()"
   ],
   "execution_count":4,
   "outputs":[
    {
     "data":{
      "text\/html":[
       "<pre>0    500\n",
       "1    268\n",
       "Name: Outcome, dtype: int64<\/pre>"
      ]
     },
     "metadata":{
      
     },
     "output_type":"display_data"
    }
   ],
   "metadata":{
    "datalore":{
     "node_id":"XLbtgQhb7CVT1VMQsjeGTe",
     "type":"CODE",
     "hide_input_from_viewers":true,
     "hide_output_from_viewers":true
    }
   }
  },
  {
   "cell_type":"markdown",
   "source":[
    "### Objectives and baseline method\n",
    "For the rest of this practical, we will use a K-nearest-neighbours (KNN) algorithm to make a diagnosis from the dataset. This means that today, the only way we can improve this diagnosis is by pre-processing the data.\n",
    "The accuracy of the algorithm will be our metric to evaluate the quality of our pre-processing.\n",
    "\n",
    "Below is the function you will need to use the algorithm. You don't need to understand it yet - it will all be explained in future lessons !"
   ],
   "attachments":{
    
   },
   "metadata":{
    "datalore":{
     "node_id":"e2EKbz4Nobe59frzkWW1mG",
     "type":"MD",
     "hide_input_from_viewers":false,
     "hide_output_from_viewers":false,
     "report_properties":{
      "rowId":"spT2CbKPDsO4oH0PXFK7iz"
     }
    }
   }
  },
  {
   "cell_type":"code",
   "source":[
    "def split_data(data):\n",
    "    X = data.drop(\"Outcome\", axis=1)\n",
    "    y = data.Outcome\n",
    "    return train_test_split(X, y,\n",
    "                            test_size=0.10,   # 10% of the data will be used for testing\n",
    "                            random_state=42,  # ensures reproducibility of the test\n",
    "                            stratify=y        # ensures the proportion of ill people is the same in the train and test sets\n",
    "                            )\n",
    "\n",
    "def print_knn_score(scores, data_type=\"\"):\n",
    "    max_score = max(scores)\n",
    "    k_values_max_score = [i + 1 for i, v in enumerate(scores) if v == max_score]\n",
    "    print(f'Max {data_type} score {max_score * 100} % for k = {[i for i in k_values_max_score]}')\n",
    "\n",
    "def diagnosis_knn(data):\n",
    "    \"\"\" KNN-based classification for diabetes diagnosis. \"\"\"\n",
    "    X_train, X_test, y_train, y_test = split_data(data)\n",
    "    test_scores = []\n",
    "    train_scores = []\n",
    "\n",
    "    for k in range(1, 15):\n",
    "        knn = KNeighborsClassifier(k)\n",
    "        knn.fit(X_train, y_train)\n",
    "        train_scores.append(knn.score(X_train, y_train))  # \"score\" for KNN is the accuracy of the classification\n",
    "        test_scores.append(knn.score(X_test, y_test))\n",
    "\n",
    "    print_knn_score(train_scores, \"train\")\n",
    "    print_knn_score(test_scores, \"test\")"
   ],
   "execution_count":5,
   "outputs":[
    
   ],
   "metadata":{
    "datalore":{
     "node_id":"2N91tKLEtwYsPJkvTVAn8N",
     "type":"CODE",
     "hide_input_from_viewers":false,
     "hide_output_from_viewers":false,
     "report_properties":{
      "rowId":"zxan9dqCEnLPRkD7FvLZBF"
     }
    }
   }
  },
  {
   "cell_type":"markdown",
   "source":[
    "With this, we can have a \"baseline\" score, *i.e.* a score we can refer to in the future to see how performance evolves with our changes."
   ],
   "attachments":{
    
   },
   "metadata":{
    "datalore":{
     "node_id":"OlJHt8UbrwRKtXz2fzOb8F",
     "type":"MD",
     "hide_input_from_viewers":false,
     "hide_output_from_viewers":false,
     "report_properties":{
      "rowId":"fh00NZS4r4wGhXZwGFvqHg"
     }
    }
   }
  },
  {
   "cell_type":"code",
   "source":[
    "diagnosis_knn(df)"
   ],
   "execution_count":6,
   "outputs":[
    {
     "name":"stdout",
     "text":[
      "Max train score 100.0 % for k = [1]\n",
      "Max test score 75.32467532467533 % for k = [1, 2]\n"
     ],
     "output_type":"stream"
    }
   ],
   "metadata":{
    "datalore":{
     "node_id":"jmucjWL7LfT26UdzCbtyIh",
     "type":"CODE",
     "hide_input_from_viewers":false,
     "hide_output_from_viewers":false,
     "report_properties":{
      "rowId":"FXPkH0Hg7LrtYT7S8liPY1"
     }
    }
   }
  },
  {
   "cell_type":"markdown",
   "source":[
    "### Scaling the data\n",
    "\n",
    "KNN is a distance-based algorithm, meaning it is can sensitive to the absolute values of the features. One possible way to counter this issue is to standardize the data (subtract mean and divide by standard deviation).\n",
    "\n",
    "Be careful not to mix up **normalization** and **standardization**!\n",
    "**Normalizing data** means dividing each value by its norm. There are several norms (l1, l2), which all have different properties.\n",
    "\n",
    "**Normalization changes the distribution of the data**, whereas **standardization simply changes its scale**.\n",
    "\n",
    "#### Task\n",
    "Apply each of the following operations. For each of them, check how the prediction score changes, and try to interpret it.\n",
    "- Standardize the data.\n",
    "- Normalize the data. Make sure to use the original data, and not the standardized data!\n",
    "- In a separate variable, use both standardization and normalization.\n",
    "\n",
    "*Hints*:\n",
    "- You can either try to define these functions yourself, or you can use `scikit-learn`'s dedicated objects : [`StandardScaler`](https:\/\/scikit-learn.org\/stable\/modules\/generated\/sklearn.preprocessing.StandardScaler.html) and [`Normalizer`](https:\/\/scikit-learn.org\/stable\/modules\/generated\/sklearn.preprocessing.Normalizer.html#sklearn.preprocessing.Normalizer). Refer to the documentation for information on how to use them. Don't forget the imports!\n",
    "- It is advised to create a function that will do the scaling for you. This way, you can easily scale other datasets in the rest of the practical."
   ],
   "attachments":{
    
   },
   "metadata":{
    "datalore":{
     "node_id":"9xgSVVbXO18MkSgHSpJzul",
     "type":"MD",
     "hide_input_from_viewers":false,
     "hide_output_from_viewers":false,
     "report_properties":{
      "rowId":"Ja0J9pSDxUm45NZ1POkxsn"
     }
    }
   }
  },
  {
   "cell_type":"code",
   "source":[
    "from sklearn.preprocessing import StandardScaler\n",
    "\n",
    "scaler = StandardScaler()                                   # create an instance of the scaler\n",
    "outcome = df[\"Outcome\"].to_numpy()                          # we use to_numpy() to avoid problems with the index\n",
    "df_std = df.drop([\"Outcome\"], axis=1, inplace=False)        # create a copy excluding target\n",
    "df_std = scaler.fit_transform(df_std)                       # fit the scaler\n",
    "df_std = pd.DataFrame(df_std, columns=data_columns[:-1])    # transform it to dataframe\n",
    "df_std[\"Outcome\"] = outcome                                 # add the outcome column back\n",
    "\n",
    "diagnosis_knn(df_std)"
   ],
   "execution_count":7,
   "outputs":[
    {
     "name":"stdout",
     "text":[
      "Max train score 100.0 % for k = [1]\n",
      "Max test score 80.51948051948052 % for k = [3]\n"
     ],
     "output_type":"stream"
    }
   ],
   "metadata":{
    "datalore":{
     "node_id":"ZexVQ1LjAL76W3eQWVG7J9",
     "type":"CODE",
     "hide_input_from_viewers":false,
     "hide_output_from_viewers":false,
     "report_properties":{
      "rowId":"V0IOFRTKVsCPcMemBzyuf8"
     }
    }
   }
  },
  {
   "cell_type":"code",
   "source":[
    "from sklearn.preprocessing import Normalizer\n",
    "\n",
    "normalizer = Normalizer()                                   # create an instance of the scaler\n",
    "df_nor = df.drop([\"Outcome\"], axis=1, inplace=False)        # create a copy excluding target\n",
    "df_nor = normalizer.fit_transform(df_nor)                       # fit the scaler\n",
    "df_nor = pd.DataFrame(df_nor, columns=data_columns[:-1])    # transform it to dataframe\n",
    "df_nor[\"Outcome\"] = outcome\n",
    "\n",
    "diagnosis_knn(df_nor)"
   ],
   "execution_count":8,
   "outputs":[
    {
     "name":"stdout",
     "text":[
      "Max train score 100.0 % for k = [1]\n",
      "Max test score 67.53246753246754 % for k = [7, 12]\n"
     ],
     "output_type":"stream"
    }
   ],
   "metadata":{
    "datalore":{
     "node_id":"LOyvIBJD6oLxWipZGmFcbU",
     "type":"CODE",
     "hide_input_from_viewers":false,
     "hide_output_from_viewers":false,
     "report_properties":{
      "rowId":"8GhwpxjsXaGK77a6cqTWEw"
     }
    }
   }
  },
  {
   "cell_type":"code",
   "source":[
    "df_std_nor = df_std\n",
    "df_std_nor = df_std_nor.drop([\"Outcome\"], axis=1, inplace=False)\n",
    "df_std_nor = normalizer.fit_transform(df_std_nor)\n",
    "df_std_nor = pd.DataFrame(df_std_nor, columns=data_columns[:-1])    \n",
    "df_std_nor[\"Outcome\"] = outcome"
   ],
   "execution_count":9,
   "outputs":[
    
   ],
   "metadata":{
    "datalore":{
     "node_id":"SK1BICMLNQCgph8OqFbDTg",
     "type":"CODE",
     "hide_input_from_viewers":false,
     "hide_output_from_viewers":false,
     "report_properties":{
      "rowId":"VKvTE9jBa46dmL5V5imXqa"
     }
    }
   }
  },
  {
   "cell_type":"code",
   "source":[
    "diagnosis_knn(df_std_nor)"
   ],
   "execution_count":10,
   "outputs":[
    {
     "name":"stdout",
     "text":[
      "Max train score 100.0 % for k = [1]\n",
      "Max test score 79.22077922077922 % for k = [5, 7, 8, 9, 10, 11]\n"
     ],
     "output_type":"stream"
    }
   ],
   "metadata":{
    "datalore":{
     "node_id":"MByCvtBeU9tJpPf2UsuO9e",
     "type":"CODE",
     "hide_input_from_viewers":true,
     "hide_output_from_viewers":true
    }
   }
  },
  {
   "cell_type":"code",
   "source":[
    "df_nor_std = df_nor\n",
    "df_nor_std = df_nor_std.drop([\"Outcome\"], axis=1, inplace=False)\n",
    "df_nor_std = scaler.fit_transform(df_nor_std)\n",
    "df_nor_std = pd.DataFrame(df_nor_std, columns=data_columns[:-1])    \n",
    "df_nor_std[\"Outcome\"] = outcome"
   ],
   "execution_count":11,
   "outputs":[
    
   ],
   "metadata":{
    "datalore":{
     "node_id":"rDBLyvyvwy1n7dhzJsSx1C",
     "type":"CODE",
     "hide_input_from_viewers":true,
     "hide_output_from_viewers":true
    }
   }
  },
  {
   "cell_type":"code",
   "source":[
    "diagnosis_knn(df_nor_std)"
   ],
   "execution_count":12,
   "outputs":[
    {
     "name":"stdout",
     "text":[
      "Max train score 100.0 % for k = [1]\n",
      "Max test score 72.72727272727273 % for k = [2]\n"
     ],
     "output_type":"stream"
    }
   ],
   "metadata":{
    "datalore":{
     "node_id":"1eyRqWLvAwwX0Tj2EBCvL5",
     "type":"CODE",
     "hide_input_from_viewers":true,
     "hide_output_from_viewers":true
    }
   }
  },
  {
   "cell_type":"markdown",
   "source":[
    "**Interpreatation**\n",
    "\n",
    "Standardizing the data increases the prediction accuracy by 5%. Standardization calibrates the scale of the data for the algorithm without changing its distribution. However, normalizing the data decreases the prediction accuracy by 8%. In this case, the change in the distribution of the data induced by the normalization decreased the accuracy of the classifier."
   ],
   "attachments":{
    
   },
   "metadata":{
    "datalore":{
     "node_id":"Jh2yG6WAcEE6NIhYIvyC8Q",
     "type":"MD",
     "hide_input_from_viewers":true,
     "hide_output_from_viewers":true
    }
   }
  },
  {
   "cell_type":"markdown",
   "source":[
    "### Managing missing values\n",
    "\n",
    "#### \"What missing values?\"\n",
    "\n",
    "Using the functions we saw in the last practical, determine (if you have not already) whether the dataset contains missing values.\n",
    "Now observe the minimum and maximum values for each feature. Does anything seem weird to you? Try to interpret the abnormalities."
   ],
   "attachments":{
    
   },
   "metadata":{
    "datalore":{
     "node_id":"kR0Lj1Vm6YasRvKaZ3j6sD",
     "type":"MD",
     "hide_input_from_viewers":false,
     "hide_output_from_viewers":false,
     "report_properties":{
      "rowId":"MTXcVNJVZBImlggJLYOSXv"
     }
    }
   }
  },
  {
   "cell_type":"markdown",
   "source":[
    "**Answer**\n",
    "\n",
    "There is no NaN type in the dataset. However, some features have null values that do not make any sens. The following features : \"Glucose\", \"BloodPressure\", \"SkinThickness\", \"Insulin\" and \"BMI\" contain missing values that are set to 0."
   ],
   "attachments":{
    
   },
   "metadata":{
    "datalore":{
     "node_id":"q9VgOI97wz6sskohGz2wbi",
     "type":"MD",
     "hide_input_from_viewers":true,
     "hide_output_from_viewers":true
    }
   }
  },
  {
   "cell_type":"code",
   "source":[
    "df"
   ],
   "execution_count":13,
   "outputs":[
    {
     "data":{
      "text\/html":[
       "<div>\n",
       "<style scoped>\n",
       "    .dataframe tbody tr th:only-of-type {\n",
       "        vertical-align: middle;\n",
       "    }\n",
       "\n",
       "    .dataframe tbody tr th {\n",
       "        vertical-align: top;\n",
       "    }\n",
       "\n",
       "    .dataframe thead th {\n",
       "        text-align: right;\n",
       "    }\n",
       "<\/style>\n",
       "<table border=\"1\" class=\"dataframe\">\n",
       "  <thead>\n",
       "    <tr style=\"text-align: right;\">\n",
       "      <th><\/th>\n",
       "      <th>Pregnancies<\/th>\n",
       "      <th>Glucose<\/th>\n",
       "      <th>BloodPressure<\/th>\n",
       "      <th>SkinThickness<\/th>\n",
       "      <th>Insulin<\/th>\n",
       "      <th>BMI<\/th>\n",
       "      <th>DiabetesPedigreeFunction<\/th>\n",
       "      <th>Age<\/th>\n",
       "      <th>Outcome<\/th>\n",
       "    <\/tr>\n",
       "  <\/thead>\n",
       "  <tbody>\n",
       "    <tr>\n",
       "      <th>0<\/th>\n",
       "      <td>6<\/td>\n",
       "      <td>148<\/td>\n",
       "      <td>72<\/td>\n",
       "      <td>35<\/td>\n",
       "      <td>0<\/td>\n",
       "      <td>33.6<\/td>\n",
       "      <td>0.627<\/td>\n",
       "      <td>50<\/td>\n",
       "      <td>1<\/td>\n",
       "    <\/tr>\n",
       "    <tr>\n",
       "      <th>1<\/th>\n",
       "      <td>1<\/td>\n",
       "      <td>85<\/td>\n",
       "      <td>66<\/td>\n",
       "      <td>29<\/td>\n",
       "      <td>0<\/td>\n",
       "      <td>26.6<\/td>\n",
       "      <td>0.351<\/td>\n",
       "      <td>31<\/td>\n",
       "      <td>0<\/td>\n",
       "    <\/tr>\n",
       "    <tr>\n",
       "      <th>2<\/th>\n",
       "      <td>8<\/td>\n",
       "      <td>183<\/td>\n",
       "      <td>64<\/td>\n",
       "      <td>0<\/td>\n",
       "      <td>0<\/td>\n",
       "      <td>23.3<\/td>\n",
       "      <td>0.672<\/td>\n",
       "      <td>32<\/td>\n",
       "      <td>1<\/td>\n",
       "    <\/tr>\n",
       "    <tr>\n",
       "      <th>3<\/th>\n",
       "      <td>1<\/td>\n",
       "      <td>89<\/td>\n",
       "      <td>66<\/td>\n",
       "      <td>23<\/td>\n",
       "      <td>94<\/td>\n",
       "      <td>28.1<\/td>\n",
       "      <td>0.167<\/td>\n",
       "      <td>21<\/td>\n",
       "      <td>0<\/td>\n",
       "    <\/tr>\n",
       "    <tr>\n",
       "      <th>4<\/th>\n",
       "      <td>0<\/td>\n",
       "      <td>137<\/td>\n",
       "      <td>40<\/td>\n",
       "      <td>35<\/td>\n",
       "      <td>168<\/td>\n",
       "      <td>43.1<\/td>\n",
       "      <td>2.288<\/td>\n",
       "      <td>33<\/td>\n",
       "      <td>1<\/td>\n",
       "    <\/tr>\n",
       "    <tr>\n",
       "      <th>...<\/th>\n",
       "      <td>...<\/td>\n",
       "      <td>...<\/td>\n",
       "      <td>...<\/td>\n",
       "      <td>...<\/td>\n",
       "      <td>...<\/td>\n",
       "      <td>...<\/td>\n",
       "      <td>...<\/td>\n",
       "      <td>...<\/td>\n",
       "      <td>...<\/td>\n",
       "    <\/tr>\n",
       "    <tr>\n",
       "      <th>763<\/th>\n",
       "      <td>10<\/td>\n",
       "      <td>101<\/td>\n",
       "      <td>76<\/td>\n",
       "      <td>48<\/td>\n",
       "      <td>180<\/td>\n",
       "      <td>32.9<\/td>\n",
       "      <td>0.171<\/td>\n",
       "      <td>63<\/td>\n",
       "      <td>0<\/td>\n",
       "    <\/tr>\n",
       "    <tr>\n",
       "      <th>764<\/th>\n",
       "      <td>2<\/td>\n",
       "      <td>122<\/td>\n",
       "      <td>70<\/td>\n",
       "      <td>27<\/td>\n",
       "      <td>0<\/td>\n",
       "      <td>36.8<\/td>\n",
       "      <td>0.340<\/td>\n",
       "      <td>27<\/td>\n",
       "      <td>0<\/td>\n",
       "    <\/tr>\n",
       "    <tr>\n",
       "      <th>765<\/th>\n",
       "      <td>5<\/td>\n",
       "      <td>121<\/td>\n",
       "      <td>72<\/td>\n",
       "      <td>23<\/td>\n",
       "      <td>112<\/td>\n",
       "      <td>26.2<\/td>\n",
       "      <td>0.245<\/td>\n",
       "      <td>30<\/td>\n",
       "      <td>0<\/td>\n",
       "    <\/tr>\n",
       "    <tr>\n",
       "      <th>766<\/th>\n",
       "      <td>1<\/td>\n",
       "      <td>126<\/td>\n",
       "      <td>60<\/td>\n",
       "      <td>0<\/td>\n",
       "      <td>0<\/td>\n",
       "      <td>30.1<\/td>\n",
       "      <td>0.349<\/td>\n",
       "      <td>47<\/td>\n",
       "      <td>1<\/td>\n",
       "    <\/tr>\n",
       "    <tr>\n",
       "      <th>767<\/th>\n",
       "      <td>1<\/td>\n",
       "      <td>93<\/td>\n",
       "      <td>70<\/td>\n",
       "      <td>31<\/td>\n",
       "      <td>0<\/td>\n",
       "      <td>30.4<\/td>\n",
       "      <td>0.315<\/td>\n",
       "      <td>23<\/td>\n",
       "      <td>0<\/td>\n",
       "    <\/tr>\n",
       "  <\/tbody>\n",
       "<\/table>\n",
       "<p>768 rows × 9 columns<\/p>\n",
       "<\/div>"
      ]
     },
     "metadata":{
      
     },
     "output_type":"display_data"
    }
   ],
   "metadata":{
    "datalore":{
     "node_id":"c0vTzD5hUMLfCr1Up60PXR",
     "type":"CODE",
     "hide_input_from_viewers":false,
     "hide_output_from_viewers":false,
     "report_properties":{
      "rowId":"VK2LPaKihH6eULzoroHudr"
     }
    }
   }
  },
  {
   "cell_type":"markdown",
   "source":[
    "#### Cleaning the data\n",
    "\n",
    "You must now have noticed that there are indeed missing values in the dataset. To avoid creating bias in the data and misleading both analysis and algorithms, it is actually better to replace those values by actual missing values, which we will manage later on.\n",
    "\n",
    "In the code cell below, replace the missing values with `NaN` types, meaning \"Not a Number\".\n",
    "Make sure to use the original data, not the scaled data from the previous section!\n",
    "It is a good idea to scale data, but the scaling needs to be done after the cleaning. In order to compare the results with and without scaled data, you will need to re-scale the data everytime we impute a different value for `NaN`s.\n",
    "\n",
    "*Hints*:\n",
    "- Make sure to only replace values in the relevant columns!\n",
    "- You can use the `replace()` function to perform the replacement\n",
    "- You can indicate a `NaN` type with `np.NaN`"
   ],
   "attachments":{
    
   },
   "metadata":{
    "datalore":{
     "node_id":"rffX1xhw32SuCb6i0fWBfX",
     "type":"MD",
     "hide_input_from_viewers":false,
     "hide_output_from_viewers":false,
     "report_properties":{
      "rowId":"MizvUAeTjQc3hhiMCG1yg5"
     }
    }
   }
  },
  {
   "cell_type":"code",
   "source":[
    "missing_data_columns = [\"Glucose\", \"BloodPressure\", \"SkinThickness\", \"Insulin\", \"BMI\", \"DiabetesPedigreeFunction\"]\n",
    "df2=df.copy()\n",
    "df2[missing_data_columns]=df2[missing_data_columns].replace(0,np.NaN)\n",
    "\n",
    "df2 # with NaN instead of zeros"
   ],
   "execution_count":14,
   "outputs":[
    {
     "data":{
      "text\/html":[
       "<div>\n",
       "<style scoped>\n",
       "    .dataframe tbody tr th:only-of-type {\n",
       "        vertical-align: middle;\n",
       "    }\n",
       "\n",
       "    .dataframe tbody tr th {\n",
       "        vertical-align: top;\n",
       "    }\n",
       "\n",
       "    .dataframe thead th {\n",
       "        text-align: right;\n",
       "    }\n",
       "<\/style>\n",
       "<table border=\"1\" class=\"dataframe\">\n",
       "  <thead>\n",
       "    <tr style=\"text-align: right;\">\n",
       "      <th><\/th>\n",
       "      <th>Pregnancies<\/th>\n",
       "      <th>Glucose<\/th>\n",
       "      <th>BloodPressure<\/th>\n",
       "      <th>SkinThickness<\/th>\n",
       "      <th>Insulin<\/th>\n",
       "      <th>BMI<\/th>\n",
       "      <th>DiabetesPedigreeFunction<\/th>\n",
       "      <th>Age<\/th>\n",
       "      <th>Outcome<\/th>\n",
       "    <\/tr>\n",
       "  <\/thead>\n",
       "  <tbody>\n",
       "    <tr>\n",
       "      <th>0<\/th>\n",
       "      <td>6<\/td>\n",
       "      <td>148.0<\/td>\n",
       "      <td>72.0<\/td>\n",
       "      <td>35.0<\/td>\n",
       "      <td>NaN<\/td>\n",
       "      <td>33.6<\/td>\n",
       "      <td>0.627<\/td>\n",
       "      <td>50<\/td>\n",
       "      <td>1<\/td>\n",
       "    <\/tr>\n",
       "    <tr>\n",
       "      <th>1<\/th>\n",
       "      <td>1<\/td>\n",
       "      <td>85.0<\/td>\n",
       "      <td>66.0<\/td>\n",
       "      <td>29.0<\/td>\n",
       "      <td>NaN<\/td>\n",
       "      <td>26.6<\/td>\n",
       "      <td>0.351<\/td>\n",
       "      <td>31<\/td>\n",
       "      <td>0<\/td>\n",
       "    <\/tr>\n",
       "    <tr>\n",
       "      <th>2<\/th>\n",
       "      <td>8<\/td>\n",
       "      <td>183.0<\/td>\n",
       "      <td>64.0<\/td>\n",
       "      <td>NaN<\/td>\n",
       "      <td>NaN<\/td>\n",
       "      <td>23.3<\/td>\n",
       "      <td>0.672<\/td>\n",
       "      <td>32<\/td>\n",
       "      <td>1<\/td>\n",
       "    <\/tr>\n",
       "    <tr>\n",
       "      <th>3<\/th>\n",
       "      <td>1<\/td>\n",
       "      <td>89.0<\/td>\n",
       "      <td>66.0<\/td>\n",
       "      <td>23.0<\/td>\n",
       "      <td>94.0<\/td>\n",
       "      <td>28.1<\/td>\n",
       "      <td>0.167<\/td>\n",
       "      <td>21<\/td>\n",
       "      <td>0<\/td>\n",
       "    <\/tr>\n",
       "    <tr>\n",
       "      <th>4<\/th>\n",
       "      <td>0<\/td>\n",
       "      <td>137.0<\/td>\n",
       "      <td>40.0<\/td>\n",
       "      <td>35.0<\/td>\n",
       "      <td>168.0<\/td>\n",
       "      <td>43.1<\/td>\n",
       "      <td>2.288<\/td>\n",
       "      <td>33<\/td>\n",
       "      <td>1<\/td>\n",
       "    <\/tr>\n",
       "    <tr>\n",
       "      <th>...<\/th>\n",
       "      <td>...<\/td>\n",
       "      <td>...<\/td>\n",
       "      <td>...<\/td>\n",
       "      <td>...<\/td>\n",
       "      <td>...<\/td>\n",
       "      <td>...<\/td>\n",
       "      <td>...<\/td>\n",
       "      <td>...<\/td>\n",
       "      <td>...<\/td>\n",
       "    <\/tr>\n",
       "    <tr>\n",
       "      <th>763<\/th>\n",
       "      <td>10<\/td>\n",
       "      <td>101.0<\/td>\n",
       "      <td>76.0<\/td>\n",
       "      <td>48.0<\/td>\n",
       "      <td>180.0<\/td>\n",
       "      <td>32.9<\/td>\n",
       "      <td>0.171<\/td>\n",
       "      <td>63<\/td>\n",
       "      <td>0<\/td>\n",
       "    <\/tr>\n",
       "    <tr>\n",
       "      <th>764<\/th>\n",
       "      <td>2<\/td>\n",
       "      <td>122.0<\/td>\n",
       "      <td>70.0<\/td>\n",
       "      <td>27.0<\/td>\n",
       "      <td>NaN<\/td>\n",
       "      <td>36.8<\/td>\n",
       "      <td>0.340<\/td>\n",
       "      <td>27<\/td>\n",
       "      <td>0<\/td>\n",
       "    <\/tr>\n",
       "    <tr>\n",
       "      <th>765<\/th>\n",
       "      <td>5<\/td>\n",
       "      <td>121.0<\/td>\n",
       "      <td>72.0<\/td>\n",
       "      <td>23.0<\/td>\n",
       "      <td>112.0<\/td>\n",
       "      <td>26.2<\/td>\n",
       "      <td>0.245<\/td>\n",
       "      <td>30<\/td>\n",
       "      <td>0<\/td>\n",
       "    <\/tr>\n",
       "    <tr>\n",
       "      <th>766<\/th>\n",
       "      <td>1<\/td>\n",
       "      <td>126.0<\/td>\n",
       "      <td>60.0<\/td>\n",
       "      <td>NaN<\/td>\n",
       "      <td>NaN<\/td>\n",
       "      <td>30.1<\/td>\n",
       "      <td>0.349<\/td>\n",
       "      <td>47<\/td>\n",
       "      <td>1<\/td>\n",
       "    <\/tr>\n",
       "    <tr>\n",
       "      <th>767<\/th>\n",
       "      <td>1<\/td>\n",
       "      <td>93.0<\/td>\n",
       "      <td>70.0<\/td>\n",
       "      <td>31.0<\/td>\n",
       "      <td>NaN<\/td>\n",
       "      <td>30.4<\/td>\n",
       "      <td>0.315<\/td>\n",
       "      <td>23<\/td>\n",
       "      <td>0<\/td>\n",
       "    <\/tr>\n",
       "  <\/tbody>\n",
       "<\/table>\n",
       "<p>768 rows × 9 columns<\/p>\n",
       "<\/div>"
      ]
     },
     "metadata":{
      
     },
     "output_type":"display_data"
    }
   ],
   "metadata":{
    "datalore":{
     "node_id":"mzAUmsr7gUAXwWBeAOrXpu",
     "type":"CODE",
     "hide_input_from_viewers":false,
     "hide_output_from_viewers":false,
     "report_properties":{
      "rowId":"la7OGqInSytYcEr3r64JqX"
     }
    }
   }
  },
  {
   "cell_type":"markdown",
   "source":[
    "#### Observe missing data\n",
    "\n",
    "Sometimes, visualizing missing data lets you determine whether your data is missing randomly or not.\n",
    "In the cell below, use a seaborn heatmap to display missing values."
   ],
   "attachments":{
    
   },
   "metadata":{
    "datalore":{
     "node_id":"CJKgORDFEVYJRFUazFnyDB",
     "type":"MD",
     "hide_input_from_viewers":false,
     "hide_output_from_viewers":false,
     "report_properties":{
      "rowId":"KIESHV52pspEl46FbTtcu0"
     }
    }
   }
  },
  {
   "cell_type":"code",
   "source":[
    "sns.heatmap(df2.isna())"
   ],
   "execution_count":15,
   "outputs":[
    {
     "data":{
      "text\/plain":[
       "<Axes: >"
      ]
     },
     "metadata":{
      
     },
     "output_type":"display_data"
    },
    {
     "data":{
      "image\/png":"[encoded data removed]"
     },
     "metadata":{
      "image\/png":{
       
      }
     },
     "output_type":"display_data"
    }
   ],
   "metadata":{
    "datalore":{
     "node_id":"rOp9f6UMYE4hz8JOLHi9dK",
     "type":"CODE",
     "hide_input_from_viewers":false,
     "hide_output_from_viewers":false,
     "report_properties":{
      "rowId":"5MsrhuAs8odbxyitJlcnus"
     }
    }
   }
  },
  {
   "cell_type":"markdown",
   "source":[
    "### Deleting rows with missing values\n",
    "\n",
    "As a first approach, try deleting rows where data is missing. How much data do you have left?\n",
    "Check the new score. How do you interpret this result?"
   ],
   "attachments":{
    
   },
   "metadata":{
    "datalore":{
     "node_id":"OgKUezl0IfjaDhKoWpgHtX",
     "type":"MD",
     "hide_input_from_viewers":false,
     "hide_output_from_viewers":false,
     "report_properties":{
      "rowId":"OwVGJ6sOfzS8E8xUr0iNdz"
     }
    }
   }
  },
  {
   "cell_type":"markdown",
   "source":[
    "**Answer**\n",
    "\n",
    "The number of rows almost halved. The accuracy of the prediction increased by 4%. It is probably because the zeros were bringing noise that mistook the predictive model. However, it is hard to be entirely satisfied with this operation as the number of observations almost halved, letting significantly less data remaining to train the model (cf. cell below)."
   ],
   "attachments":{
    
   },
   "metadata":{
    "datalore":{
     "node_id":"qPH9CLWQjIeR3kDdS816Hb",
     "type":"MD",
     "hide_input_from_viewers":false,
     "hide_output_from_viewers":false,
     "report_properties":{
      "rowId":"wpIizLczinEi6W8cRXlkWG"
     }
    }
   }
  },
  {
   "cell_type":"code",
   "source":[
    "df3=df2.dropna() # supress all rows containing at least one Nan\n",
    "\n",
    "print(np.shape(df3))\n",
    "\n",
    "diagnosis_knn(df3)"
   ],
   "execution_count":16,
   "outputs":[
    {
     "name":"stdout",
     "text":[
      "(392, 9)\n",
      "Max train score 100.0 % for k = [1]\n",
      "Max test score 80.0 % for k = [9, 11]\n"
     ],
     "output_type":"stream"
    }
   ],
   "metadata":{
    "datalore":{
     "node_id":"grz4qFXmOej8Jfm6T241OF",
     "type":"CODE",
     "hide_input_from_viewers":false,
     "hide_output_from_viewers":false,
     "report_properties":{
      "rowId":"Jm2CTAEhqQKszxwa6UQVsD"
     }
    }
   }
  },
  {
   "cell_type":"markdown",
   "source":[
    "### Replacing missing values\n",
    "\n",
    "In a lot of cases, replacing the missing data can provide better classification results than simply deleting the data. In the sections below, we will test different methods for data replacement.\n",
    "\n",
    "For each of these methods :\n",
    "- Perform the replacement on the data we cleaned up\n",
    "- Check how the diagnosis score evolves\n",
    "- Try providing an explanation for this evolution\n",
    "- Scale the data and see if there are any changes\n",
    "\n",
    "*Hint: Pandas has a `fillna()` function!*"
   ],
   "attachments":{
    
   },
   "metadata":{
    "datalore":{
     "node_id":"kfs9pUMqYMnRKIUaKrSFKl",
     "type":"MD",
     "hide_input_from_viewers":false,
     "hide_output_from_viewers":false,
     "report_properties":{
      "rowId":"oENtqOgtVSwbgzIudb3Mt8"
     }
    }
   }
  },
  {
   "cell_type":"code",
   "source":[
    "# Let's display the distributions of the non-missing values for each feature concerned by missing values\n",
    "\n",
    "sns.displot(df3, x=\"Glucose\", kind=\"kde\", hue=\"Outcome\")\n",
    "sns.displot(df3, x=\"BloodPressure\", kind=\"kde\", hue=\"Outcome\")\n",
    "sns.displot(df3, x=\"SkinThickness\", kind=\"kde\", hue=\"Outcome\")\n",
    "sns.displot(df3, x=\"Insulin\", kind=\"kde\", hue=\"Outcome\")\n",
    "sns.displot(df3, x=\"BMI\", kind=\"kde\", hue=\"Outcome\")\n",
    "sns.displot(df3, x=\"DiabetesPedigreeFunction\", kind=\"kde\", hue=\"Outcome\")"
   ],
   "execution_count":17,
   "outputs":[
    {
     "data":{
      "text\/plain":[
       "<seaborn.axisgrid.FacetGrid at 0x7f8f6efbc6a0>"
      ]
     },
     "metadata":{
      
     },
     "output_type":"display_data"
    },
    {
     "data":{
      "image\/png":"[encoded data removed]"
     },
     "metadata":{
      "image\/png":{
       
      }
     },
     "output_type":"display_data"
    },
    {
     "data":{
      "image\/png":"[encoded data removed]"
     },
     "metadata":{
      "image\/png":{
       
      }
     },
     "output_type":"display_data"
    },
    {
     "data":{
      "image\/png":"[encoded data removed]"
     },
     "metadata":{
      "image\/png":{
       
      }
     },
     "output_type":"display_data"
    },
    {
     "data":{
      "image\/png":"[encoded data removed]"
     },
     "metadata":{
      "image\/png":{
       
      }
     },
     "output_type":"display_data"
    },
    {
     "data":{
      "image\/png":"[encoded data removed]"
     },
     "metadata":{
      "image\/png":{
       
      }
     },
     "output_type":"display_data"
    },
    {
     "data":{
      "image\/png":"[encoded data removed]"
     },
     "metadata":{
      "image\/png":{
       
      }
     },
     "output_type":"display_data"
    }
   ],
   "metadata":{
    "datalore":{
     "node_id":"v524JyDENt3YHZba124Ue4",
     "type":"CODE",
     "hide_input_from_viewers":true,
     "hide_output_from_viewers":true
    }
   }
  },
  {
   "cell_type":"markdown",
   "source":[
    "#### Replacing with mean values"
   ],
   "attachments":{
    
   },
   "metadata":{
    "datalore":{
     "node_id":"pMWhR6BAxeHP9fU1CSKqMZ",
     "type":"MD",
     "hide_input_from_viewers":false,
     "hide_output_from_viewers":false,
     "report_properties":{
      "rowId":"pOa80vKz6BHeEgOfIgWBJe"
     }
    }
   }
  },
  {
   "cell_type":"code",
   "source":[
    "from sklearn.impute import SimpleImputer\n",
    "\n",
    "data = df2.to_numpy()\n",
    "imputer_mean = SimpleImputer(missing_values = np.NaN, strategy = \"mean\")\n",
    "df_filled_mean = pd.DataFrame(imputer_mean.fit_transform(data), columns = df2.columns)\n",
    "\n",
    "diagnosis_knn(df_filled_mean)"
   ],
   "execution_count":18,
   "outputs":[
    {
     "name":"stdout",
     "text":[
      "Max train score 100.0 % for k = [1]\n",
      "Max test score 74.02597402597402 % for k = [1]\n"
     ],
     "output_type":"stream"
    }
   ],
   "metadata":{
    "datalore":{
     "node_id":"E2WcIxWdrfbOJ5LFeCbWnI",
     "type":"CODE",
     "hide_input_from_viewers":false,
     "hide_output_from_viewers":false,
     "report_properties":{
      "rowId":"CBkLU0n23xE8XHnktF1C0Z"
     }
    }
   }
  },
  {
   "cell_type":"code",
   "source":[
    "outcome = df_filled_mean[\"Outcome\"].to_numpy()                          \n",
    "df_filled_mean_std = df_filled_mean.drop([\"Outcome\"], axis=1, inplace=False)        \n",
    "df_filled_mean_std = scaler.fit_transform(df_filled_mean_std)                      \n",
    "df_filled_mean_std = pd.DataFrame(df_filled_mean_std, columns=data_columns[:-1])    \n",
    "df_filled_mean_std[\"Outcome\"] = outcome                                 \n",
    "\n",
    "diagnosis_knn(df_filled_mean_std)"
   ],
   "execution_count":19,
   "outputs":[
    {
     "name":"stdout",
     "text":[
      "Max train score 100.0 % for k = [1]\n",
      "Max test score 81.81818181818183 % for k = [5]\n"
     ],
     "output_type":"stream"
    }
   ],
   "metadata":{
    "datalore":{
     "node_id":"GdGoupzDSpuBJU9lOcGmtg",
     "type":"CODE",
     "hide_input_from_viewers":true,
     "hide_output_from_viewers":true
    }
   }
  },
  {
   "cell_type":"markdown",
   "source":[
    "**Comment**\n",
    "\n",
    "The performance of the classifier does not vary much when replacing the missing value by the mean value for the feature."
   ],
   "attachments":{
    
   },
   "metadata":{
    "datalore":{
     "node_id":"uClYBJidXeRFX9QN6AQEF4",
     "type":"MD",
     "hide_input_from_viewers":true,
     "hide_output_from_viewers":true
    }
   }
  },
  {
   "cell_type":"markdown",
   "source":[
    "#### Replacing with median values"
   ],
   "attachments":{
    
   },
   "metadata":{
    "datalore":{
     "node_id":"tj3l9qgAUKEpEcLoqRQiYU",
     "type":"MD",
     "hide_input_from_viewers":false,
     "hide_output_from_viewers":false,
     "report_properties":{
      "rowId":"x8OmeXcELbLf9ZfO1Ww72P"
     }
    }
   }
  },
  {
   "cell_type":"code",
   "source":[
    "imputer_med = SimpleImputer(missing_values = np.NaN, strategy = \"median\")\n",
    "df_filled_med = pd.DataFrame(imputer_med.fit_transform(data), columns = df2.columns)\n",
    "\n",
    "diagnosis_knn(df_filled_med)"
   ],
   "execution_count":20,
   "outputs":[
    {
     "name":"stdout",
     "text":[
      "Max train score 100.0 % for k = [1]\n",
      "Max test score 75.32467532467533 % for k = [1]\n"
     ],
     "output_type":"stream"
    }
   ],
   "metadata":{
    "datalore":{
     "node_id":"azQ8w9rqwcmx8bUuwrK4L8",
     "type":"CODE",
     "hide_input_from_viewers":false,
     "hide_output_from_viewers":false,
     "report_properties":{
      "rowId":"U5wM3qvVxOZi4mBEEahyCN"
     }
    }
   }
  },
  {
   "cell_type":"code",
   "source":[
    "outcome = df_filled_med[\"Outcome\"].to_numpy()                          \n",
    "df_filled_med_std = df_filled_med.drop([\"Outcome\"], axis=1, inplace=False)        \n",
    "df_filled_med_std = scaler.fit_transform(df_filled_med_std)                      \n",
    "df_filled_med_std = pd.DataFrame(df_filled_med_std, columns=data_columns[:-1])    \n",
    "df_filled_med_std[\"Outcome\"] = outcome                                 \n",
    "\n",
    "diagnosis_knn(df_filled_med_std)"
   ],
   "execution_count":21,
   "outputs":[
    {
     "name":"stdout",
     "text":[
      "Max train score 100.0 % for k = [1]\n",
      "Max test score 81.81818181818183 % for k = [5]\n"
     ],
     "output_type":"stream"
    }
   ],
   "metadata":{
    "datalore":{
     "node_id":"CxWFQJOPtl8taU9cG4bhxO",
     "type":"CODE",
     "hide_input_from_viewers":true,
     "hide_output_from_viewers":true
    }
   }
  },
  {
   "cell_type":"markdown",
   "source":[
    "**Comment**\n",
    "\n",
    "Same performance when remlacing missing values by median instead of mean values for the feature. As the distributions of feature values per class overlap a lot, median and mean value are close in spite of the dataset moderate imbalance. "
   ],
   "attachments":{
    
   },
   "metadata":{
    "datalore":{
     "node_id":"xybRyWo3J8vqpKA0Cz70ju",
     "type":"MD",
     "hide_input_from_viewers":true,
     "hide_output_from_viewers":true
    }
   }
  },
  {
   "cell_type":"markdown",
   "source":[
    "#### Replacing with random values\n",
    "\n",
    "Here are some ways you can replace with random values:\n",
    "- Replace with completely random values\n",
    "- Replace with random values drawn uniformly between the minimum and maximum of each column\n",
    "- Replace with random values drawn from a certain distribution for each column\n",
    "\n",
    "*Hints*:\n",
    "  - You can use functions such as [`numpy.random.uniform`](https:\/\/numpy.org\/doc\/stable\/reference\/random\/generated\/numpy.random.uniform.html) to draw random samples. Numpy has functions for many distributions, such as uniform, normal or exponential."
   ],
   "attachments":{
    
   },
   "metadata":{
    "datalore":{
     "node_id":"u0MnctaSx7LCGBe0pwnBla",
     "type":"MD",
     "hide_input_from_viewers":false,
     "hide_output_from_viewers":false,
     "report_properties":{
      "rowId":"lVnppfSTJauYP7gvgZeLBV"
     }
    }
   }
  },
  {
   "cell_type":"markdown",
   "source":[
    "*[Your comments here]*"
   ],
   "attachments":{
    
   },
   "metadata":{
    "datalore":{
     "node_id":"dkMOufHtBTNiVQqXLS64VL",
     "type":"MD",
     "hide_input_from_viewers":false,
     "hide_output_from_viewers":false,
     "report_properties":{
      "rowId":"zFoTnhRE9V8XQZZQc9hUxl"
     }
    }
   }
  },
  {
   "cell_type":"markdown",
   "source":[
    "#### Scikit learn imputation\n",
    "\n",
    "For this step, you can try using `scikit-learn`'s `SimpleImputer`, `KNN-Imputer` and \/ or `IterativeImputer`. Make sure you refer to the documentation to parametrize the imputers!"
   ],
   "attachments":{
    
   },
   "metadata":{
    "datalore":{
     "node_id":"ZBnxwIkLqjuFDiSLawj7FK",
     "type":"MD",
     "hide_input_from_viewers":false,
     "hide_output_from_viewers":false,
     "report_properties":{
      "rowId":"KH6M3csEfi5xfD9kJEMfgX"
     }
    }
   }
  },
  {
   "cell_type":"code",
   "source":[
    "from sklearn.impute import KNNImputer\n",
    "\n",
    "imputer_knn = KNNImputer(missing_values = np.NaN)\n",
    "df_filled_knn = pd.DataFrame(imputer_knn.fit_transform(data), columns = df2.columns)\n",
    "\n",
    "diagnosis_knn(df_filled_knn)"
   ],
   "execution_count":22,
   "outputs":[
    {
     "name":"stdout",
     "text":[
      "Max train score 100.0 % for k = [1]\n",
      "Max test score 74.02597402597402 % for k = [1]\n"
     ],
     "output_type":"stream"
    }
   ],
   "metadata":{
    "datalore":{
     "node_id":"hXiY8NAFeg4lQwYzfry9YW",
     "type":"CODE",
     "hide_input_from_viewers":false,
     "hide_output_from_viewers":false,
     "report_properties":{
      "rowId":"M2s5o9mFBAnw08y0EBcU0D"
     }
    }
   }
  },
  {
   "cell_type":"code",
   "source":[
    "outcome = df_filled_knn[\"Outcome\"].to_numpy()                          \n",
    "df_filled_knn_std = df_filled_knn.drop([\"Outcome\"], axis=1, inplace=False)        \n",
    "df_filled_knn_std = scaler.fit_transform(df_filled_knn_std)                      \n",
    "df_filled_knn_std = pd.DataFrame(df_filled_knn_std, columns=data_columns[:-1])    \n",
    "df_filled_knn_std[\"Outcome\"] = outcome                                 \n",
    "\n",
    "diagnosis_knn(df_filled_knn_std)"
   ],
   "execution_count":23,
   "outputs":[
    {
     "name":"stdout",
     "text":[
      "Max train score 100.0 % for k = [1]\n",
      "Max test score 79.22077922077922 % for k = [14]\n"
     ],
     "output_type":"stream"
    }
   ],
   "metadata":{
    "datalore":{
     "node_id":"4X5pOcWHENouiYvhTqVFZy",
     "type":"CODE",
     "hide_input_from_viewers":true,
     "hide_output_from_viewers":true
    }
   }
  },
  {
   "cell_type":"markdown",
   "source":[
    "**Comment**\n",
    "\n",
    "Once again, the performance is steady despite replacing NaN values with the mean value for the feature of 5 observations with similar characteristics."
   ],
   "attachments":{
    
   },
   "metadata":{
    "datalore":{
     "node_id":"3OAtlHq1qFvLKXpdYOPHOO",
     "type":"MD",
     "hide_input_from_viewers":false,
     "hide_output_from_viewers":false,
     "report_properties":{
      "rowId":"0IJWojxdNcRdWnJ7IuJfn4"
     }
    }
   }
  },
  {
   "cell_type":"markdown",
   "source":[
    "**Conclusion**\n",
    "\n",
    "The standard scaler has been a great ally as it increased the prediction accuracy for all the different data preparation strategies we tried. By only scaling the data and without further manipulations, we reached 80% accuracy, a score that hasn't been significantly beaten by the other pre-processing strategies. \n",
    "\n",
    "However, the way this notebook is designed makes us scale the data before splitting the training and the testing sets, which is cheating. Indeed, standardizing the whole dataset uses information contained in the testing set to modify the training set which might boost the performance of the classifier.\n",
    "\n",
    "Surprisingly, the different treatments of the zeros did not impact the performance much. In this dataset, there is a class imbalance in favor of the negative class and the mean values of the features per class tend to be lower for the negative class. This explains why the zeros did not have a catastrophic impact on the performance. A zero value might influence the prediction of the model towards negative, but the negative class is twice as big as the positive one, not degrading much the prediction accuracy.\n",
    "\n",
    "Finally, it has been hard to increase the prediction accuracy above 80%. However, it is understandable by looking at the distributions for each feature. They overlap a lot, so this is hard to find truly discriminant features. Last thing, it would have been great to treat the data imbalance (cf. future work \"Imbalanced_data_lab\") before feeding it to the dataset splitter to avoid biasing the model.\n"
   ],
   "attachments":{
    
   },
   "metadata":{
    "datalore":{
     "node_id":"DdSO2n5ypsALzMdF8Qaw9D",
     "type":"MD",
     "hide_input_from_viewers":true,
     "hide_output_from_viewers":true
    }
   }
  }
 ],
 "metadata":{
  "kernelspec":{
   "display_name":"Python",
   "language":"python",
   "name":"python"
  },
  "datalore":{
   "computation_mode":"JUPYTER",
   "package_manager":"pip",
   "base_environment":"default",
   "packages":[
    
   ],
   "report_row_ids":[
    "rejVo3Ff8AE7h89UYYrvVq",
    "UH7bXvMhbYq7DzwlBnHNqk",
    "wbwI4BYDIEhfgnwy3yyhYE",
    "XcH70VDXjVZ4X7hNSXE70v",
    "7MX3Emry5gAwqXkeSX0DmA",
    "xvAn49cxGUtyLcwuVqQmIn",
    "bXfw0fXmmSmZXl64CB7rnU",
    "5gF4OdLka321cNeBgGZXQv",
    "spT2CbKPDsO4oH0PXFK7iz",
    "zxan9dqCEnLPRkD7FvLZBF",
    "fh00NZS4r4wGhXZwGFvqHg",
    "FXPkH0Hg7LrtYT7S8liPY1",
    "Ja0J9pSDxUm45NZ1POkxsn",
    "V0IOFRTKVsCPcMemBzyuf8",
    "8GhwpxjsXaGK77a6cqTWEw",
    "gPhocRRvWE8P6ML6ilanFY",
    "VKvTE9jBa46dmL5V5imXqa",
    "MTXcVNJVZBImlggJLYOSXv",
    "VK2LPaKihH6eULzoroHudr",
    "4qIHHBeAgmhcu6mXDTNKAJ",
    "MizvUAeTjQc3hhiMCG1yg5",
    "la7OGqInSytYcEr3r64JqX",
    "KIESHV52pspEl46FbTtcu0",
    "5MsrhuAs8odbxyitJlcnus",
    "OwVGJ6sOfzS8E8xUr0iNdz",
    "Jm2CTAEhqQKszxwa6UQVsD",
    "wpIizLczinEi6W8cRXlkWG",
    "oENtqOgtVSwbgzIudb3Mt8",
    "pOa80vKz6BHeEgOfIgWBJe",
    "CBkLU0n23xE8XHnktF1C0Z",
    "nl8Lk9OFrmSdDIRLt3djnd",
    "x8OmeXcELbLf9ZfO1Ww72P",
    "U5wM3qvVxOZi4mBEEahyCN",
    "cc3Vh3OyJsWEbWOk2C4qag",
    "lVnppfSTJauYP7gvgZeLBV",
    "PwK32vcYsh7794bkc5J2GO",
    "zFoTnhRE9V8XQZZQc9hUxl",
    "KH6M3csEfi5xfD9kJEMfgX",
    "M2s5o9mFBAnw08y0EBcU0D",
    "BJdIfhce03LPGMxRvT00Ll",
    "NHi1J0GoFuZPRFu3R6hIX9",
    "zRFOT2knyJASu7lstK5lCm",
    "0IJWojxdNcRdWnJ7IuJfn4"
   ],
   "version":3
  }
 },
 "nbformat":4,
 "nbformat_minor":4
}