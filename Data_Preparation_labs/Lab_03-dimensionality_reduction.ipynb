{
 "cells":[
  {
   "cell_type":"markdown",
   "source":[
    "# Dimensionality reduction"
   ],
   "attachments":{
    
   },
   "metadata":{
    "datalore":{
     "node_id":"zPXHKpq0KnA6REYj0U8vFM",
     "type":"MD",
     "hide_input_from_viewers":false,
     "hide_output_from_viewers":false,
     "report_properties":{
      "rowId":"JAvPtdhbxQK9JUtEtiHJlw"
     }
    }
   }
  },
  {
   "cell_type":"markdown",
   "source":[
    "## Setup\n",
    "### Imports"
   ],
   "attachments":{
    
   },
   "metadata":{
    "datalore":{
     "node_id":"IA8uOghkt9KiQGfhh8PndN",
     "type":"MD",
     "hide_input_from_viewers":false,
     "hide_output_from_viewers":false,
     "report_properties":{
      "rowId":"XFw2oh7OYI5QPWpowngD1z"
     }
    }
   }
  },
  {
   "cell_type":"code",
   "source":[
    "import pandas as pd                                     # for dataset manipulation (DataFrames)\n",
    "import numpy as np                                      # allows some mathematical operations\n",
    "import matplotlib.pyplot as plt                         # library used to display graphs\n",
    "import seaborn as sns                                   # more convenient visualisation library for dataframes\n",
    "from sklearn.model_selection import train_test_split    # for classification\n",
    "from sklearn.neighbors import KNeighborsClassifier      # for classification\n",
    "from sklearn.decomposition import PCA                   # for Principal Component Analysis\n",
    "import time                                             # for execution time measurement"
   ],
   "execution_count":1,
   "outputs":[
    
   ],
   "metadata":{
    "datalore":{
     "node_id":"ExBa6reksrPgidlpT7vmRC",
     "type":"CODE",
     "hide_input_from_viewers":false,
     "hide_output_from_viewers":false,
     "report_properties":{
      "rowId":"30fGR9M62B6fGRPPsdcska"
     }
    }
   }
  },
  {
   "cell_type":"markdown",
   "source":[
    "### Loading the dataset"
   ],
   "attachments":{
    
   },
   "metadata":{
    "datalore":{
     "node_id":"tP2nQes94fTKne85s3bCQd",
     "type":"MD",
     "hide_input_from_viewers":false,
     "hide_output_from_viewers":false,
     "report_properties":{
      "rowId":"3mb4APQAjKrBDKvcUewchQ"
     }
    }
   }
  },
  {
   "cell_type":"code",
   "source":[
    "fives = np.loadtxt(\"fives.txt\", delimiter=\",\")\n",
    "sixes = np.loadtxt(\"sixes.txt\", delimiter=\",\")\n",
    "\n",
    "# for practical reasons, we convert these arrays to a pandas dataframe\n",
    "df_fives = pd.DataFrame(fives)\n",
    "df_sixes = pd.DataFrame(sixes)\n",
    "\n",
    "# we also create a dataframe containing all numbers for later classification\n",
    "df_fives[\"number\"] = 5 # data labeling\n",
    "df_sixes[\"number\"] = 6 # data labeling\n",
    "df = pd.concat([df_fives, df_sixes], ignore_index=True)\n",
    "df_fives.drop(\"number\", inplace=True,axis=1)\n",
    "df_sixes.drop(\"number\", inplace=True,axis=1)"
   ],
   "execution_count":2,
   "outputs":[
    
   ],
   "metadata":{
    "datalore":{
     "node_id":"0YKZm7kV3RCvIY3iQ2YQIJ",
     "type":"CODE",
     "hide_input_from_viewers":false,
     "hide_output_from_viewers":false,
     "report_properties":{
      "rowId":"6Hgmp1ghJ2xJ9kCnWtvqe9"
     }
    }
   }
  },
  {
   "cell_type":"markdown",
   "source":[
    "### Utility functions"
   ],
   "attachments":{
    
   },
   "metadata":{
    "datalore":{
     "node_id":"cI4A54fQIL5n3sXDlbQ3CY",
     "type":"MD",
     "hide_input_from_viewers":false,
     "hide_output_from_viewers":false,
     "report_properties":{
      "rowId":"2JWJZiOw6Ed9Dmm0SVjaL2"
     }
    }
   }
  },
  {
   "cell_type":"code",
   "source":[
    "def show_image(row, title=\"\"):\n",
    "    \"\"\"This function takes a row of 256 pixels and displays it as a greyscale image\"\"\"\n",
    "    image = np.reshape(row, (16, 16))\n",
    "    plt.imshow(image, cmap=\"gray\")\n",
    "    plt.title(title)\n",
    "    plt.show()\n",
    "\n",
    "\n",
    "def split_data(data):\n",
    "    X = data.drop(\"number\", axis=1)\n",
    "    y = data.number\n",
    "    return train_test_split(X, y,\n",
    "                            test_size=0.33,  # 33% of the data will be used for testing\n",
    "                            random_state=42,  # ensures reproducibility of the test\n",
    "                            stratify=y  # the proportion of each class remains the same in the train and test set\n",
    "                            )\n",
    "\n",
    "\n",
    "def print_knn_score(scores, data_type=\"\"):\n",
    "    max_score = max(scores)\n",
    "    k_values_max_score = [i + 1 for i, v in enumerate(scores) if v == max_score]\n",
    "    print(f'Max {data_type} score {max_score * 100} % for k = {[i for i in k_values_max_score]}')\n",
    "\n",
    "\n",
    "def prediction_knn(data):\n",
    "    \"\"\" KNN-based classification. \"\"\"\n",
    "    X_train, X_test, y_train, y_test = split_data(data)\n",
    "    test_scores = []\n",
    "    train_scores = []\n",
    "\n",
    "    for k in range(1, 15):\n",
    "        knn = KNeighborsClassifier(k)\n",
    "        knn.fit(X_train, y_train)\n",
    "        train_scores.append(knn.score(X_train, y_train))  # \"score\" for KNN is the accuracy of the classification\n",
    "        test_scores.append(knn.score(X_test, y_test))\n",
    "\n",
    "    print_knn_score(train_scores, \"train\")\n",
    "    print_knn_score(test_scores, \"test\")\n",
    "\n",
    "\n",
    "def run_measure_time(function, **kwargs):\n",
    "    start_time = time.time()\n",
    "    function(**kwargs)\n",
    "    print(\"--- %s seconds ---\" % (time.time() - start_time))"
   ],
   "execution_count":3,
   "outputs":[
    
   ],
   "metadata":{
    "datalore":{
     "node_id":"tX8j20hACUVABwYAM0HyFd",
     "type":"CODE",
     "hide_input_from_viewers":false,
     "hide_output_from_viewers":false,
     "report_properties":{
      "rowId":"XLsGmbir5pyJGlbL44vUGP"
     }
    }
   }
  },
  {
   "cell_type":"markdown",
   "source":[
    "### Baseline test"
   ],
   "attachments":{
    
   },
   "metadata":{
    "datalore":{
     "node_id":"znScNz7HGHvgPabH63bnTk",
     "type":"MD",
     "hide_input_from_viewers":false,
     "hide_output_from_viewers":false,
     "report_properties":{
      "rowId":"2VZckmwFZ0qWGeoN5rrc7Q"
     }
    }
   }
  },
  {
   "cell_type":"code",
   "source":[
    "run_measure_time(prediction_knn, data=df)"
   ],
   "execution_count":4,
   "outputs":[
    {
     "name":"stdout",
     "text":[
      "Max train score 100.0 % for k = [1]\n",
      "Max test score 98.51116625310173 % for k = [1]\n",
      "--- 1.1789586544036865 seconds ---\n"
     ],
     "output_type":"stream"
    }
   ],
   "metadata":{
    "datalore":{
     "node_id":"VhZfAAOpgHYBYWCcausakv",
     "type":"CODE",
     "hide_input_from_viewers":false,
     "hide_output_from_viewers":false,
     "report_properties":{
      "rowId":"QMSegISMJxZBWUxo992yox"
     }
    }
   }
  },
  {
   "cell_type":"markdown",
   "source":[
    "### Observing the dataset"
   ],
   "attachments":{
    
   },
   "metadata":{
    "datalore":{
     "node_id":"Qkxjy1caMRhlOEFReR4nBu",
     "type":"MD",
     "hide_input_from_viewers":false,
     "hide_output_from_viewers":false,
     "report_properties":{
      "rowId":"uu1hrDYalSNF0uJUnJtGOJ"
     }
    }
   }
  },
  {
   "cell_type":"code",
   "source":[
    "index = 27 # index of the image to show\n",
    "show_image(fives[index, :])\n",
    "show_image(sixes[index, :])\n",
    "# to do the same from a pandas dataframe\n",
    "# show_image(df_fives.iloc[0].to_numpy())"
   ],
   "execution_count":5,
   "outputs":[
    {
     "data":{
      "image\/png":"[encoded data removed]"
     },
     "metadata":{
      "image\/png":{
       
      }
     },
     "output_type":"display_data"
    },
    {
     "data":{
      "image\/png":"[encoded data removed]"
     },
     "metadata":{
      "image\/png":{
       
      }
     },
     "output_type":"display_data"
    }
   ],
   "metadata":{
    "datalore":{
     "node_id":"JwHmaeuAnhOgAAAkYuUkmh",
     "type":"CODE",
     "hide_input_from_viewers":false,
     "hide_output_from_viewers":false,
     "report_properties":{
      "rowId":"9hUiqEpX3QzEiOyFSUVCkl"
     }
    }
   }
  },
  {
   "cell_type":"markdown",
   "source":[
    "Using what you have learned in the previous lessons, examine the dataset and see what you can learn about it."
   ],
   "attachments":{
    
   },
   "metadata":{
    "datalore":{
     "node_id":"QLvERgCWLtdAOmtTfbfCCy",
     "type":"MD",
     "hide_input_from_viewers":false,
     "hide_output_from_viewers":false,
     "report_properties":{
      "rowId":"6hvIuhnGjZLHo5xlgBPP3h"
     }
    }
   }
  },
  {
   "cell_type":"code",
   "source":[
    "#df.shape\n",
    "df5 = df[df[\"number\"] == 5]\n",
    "df6 = df[df[\"number\"] == 6]\n",
    "\n",
    "print(df5.shape)\n",
    "print(df6.shape)"
   ],
   "execution_count":6,
   "outputs":[
    {
     "name":"stdout",
     "text":[
      "(556, 257)\n",
      "(664, 257)\n"
     ],
     "output_type":"stream"
    }
   ],
   "metadata":{
    "datalore":{
     "node_id":"xjyMto38lS8MwEr7F2EejQ",
     "type":"CODE",
     "hide_input_from_viewers":false,
     "hide_output_from_viewers":false,
     "report_properties":{
      "rowId":"NP315Me3BH5uu0kGyPksbt"
     }
    }
   }
  },
  {
   "cell_type":"code",
   "source":[
    "df6"
   ],
   "execution_count":7,
   "outputs":[
    {
     "data":{
      "text\/html":[
       "<div>\n",
       "<style scoped>\n",
       "    .dataframe tbody tr th:only-of-type {\n",
       "        vertical-align: middle;\n",
       "    }\n",
       "\n",
       "    .dataframe tbody tr th {\n",
       "        vertical-align: top;\n",
       "    }\n",
       "\n",
       "    .dataframe thead th {\n",
       "        text-align: right;\n",
       "    }\n",
       "<\/style>\n",
       "<table border=\"1\" class=\"dataframe\">\n",
       "  <thead>\n",
       "    <tr style=\"text-align: right;\">\n",
       "      <th><\/th>\n",
       "      <th>0<\/th>\n",
       "      <th>1<\/th>\n",
       "      <th>2<\/th>\n",
       "      <th>3<\/th>\n",
       "      <th>4<\/th>\n",
       "      <th>5<\/th>\n",
       "      <th>6<\/th>\n",
       "      <th>7<\/th>\n",
       "      <th>8<\/th>\n",
       "      <th>9<\/th>\n",
       "      <th>...<\/th>\n",
       "      <th>247<\/th>\n",
       "      <th>248<\/th>\n",
       "      <th>249<\/th>\n",
       "      <th>250<\/th>\n",
       "      <th>251<\/th>\n",
       "      <th>252<\/th>\n",
       "      <th>253<\/th>\n",
       "      <th>254<\/th>\n",
       "      <th>255<\/th>\n",
       "      <th>number<\/th>\n",
       "    <\/tr>\n",
       "  <\/thead>\n",
       "  <tbody>\n",
       "    <tr>\n",
       "      <th>556<\/th>\n",
       "      <td>-1.0<\/td>\n",
       "      <td>-1.0<\/td>\n",
       "      <td>-1.0<\/td>\n",
       "      <td>-1.0<\/td>\n",
       "      <td>-1.0<\/td>\n",
       "      <td>-1.000<\/td>\n",
       "      <td>-1.000<\/td>\n",
       "      <td>-0.631<\/td>\n",
       "      <td>0.862<\/td>\n",
       "      <td>-0.167<\/td>\n",
       "      <td>...<\/td>\n",
       "      <td>0.823<\/td>\n",
       "      <td>1.000<\/td>\n",
       "      <td>0.482<\/td>\n",
       "      <td>-0.474<\/td>\n",
       "      <td>-0.991<\/td>\n",
       "      <td>-1.000<\/td>\n",
       "      <td>-1.000<\/td>\n",
       "      <td>-1.0<\/td>\n",
       "      <td>-1.0<\/td>\n",
       "      <td>6<\/td>\n",
       "    <\/tr>\n",
       "    <tr>\n",
       "      <th>557<\/th>\n",
       "      <td>-1.0<\/td>\n",
       "      <td>-1.0<\/td>\n",
       "      <td>-1.0<\/td>\n",
       "      <td>-1.0<\/td>\n",
       "      <td>-1.0<\/td>\n",
       "      <td>-0.397<\/td>\n",
       "      <td>0.983<\/td>\n",
       "      <td>-0.535<\/td>\n",
       "      <td>-1.000<\/td>\n",
       "      <td>-1.000<\/td>\n",
       "      <td>...<\/td>\n",
       "      <td>0.015<\/td>\n",
       "      <td>-0.862<\/td>\n",
       "      <td>-0.871<\/td>\n",
       "      <td>-0.437<\/td>\n",
       "      <td>-1.000<\/td>\n",
       "      <td>-1.000<\/td>\n",
       "      <td>-1.000<\/td>\n",
       "      <td>-1.0<\/td>\n",
       "      <td>-1.0<\/td>\n",
       "      <td>6<\/td>\n",
       "    <\/tr>\n",
       "    <tr>\n",
       "      <th>558<\/th>\n",
       "      <td>-1.0<\/td>\n",
       "      <td>-1.0<\/td>\n",
       "      <td>-1.0<\/td>\n",
       "      <td>-1.0<\/td>\n",
       "      <td>-1.0<\/td>\n",
       "      <td>-1.000<\/td>\n",
       "      <td>-1.000<\/td>\n",
       "      <td>-1.000<\/td>\n",
       "      <td>-0.270<\/td>\n",
       "      <td>0.973<\/td>\n",
       "      <td>...<\/td>\n",
       "      <td>0.628<\/td>\n",
       "      <td>0.573<\/td>\n",
       "      <td>-0.184<\/td>\n",
       "      <td>-0.891<\/td>\n",
       "      <td>-1.000<\/td>\n",
       "      <td>-1.000<\/td>\n",
       "      <td>-1.000<\/td>\n",
       "      <td>-1.0<\/td>\n",
       "      <td>-1.0<\/td>\n",
       "      <td>6<\/td>\n",
       "    <\/tr>\n",
       "    <tr>\n",
       "      <th>559<\/th>\n",
       "      <td>-1.0<\/td>\n",
       "      <td>-1.0<\/td>\n",
       "      <td>-1.0<\/td>\n",
       "      <td>-1.0<\/td>\n",
       "      <td>-1.0<\/td>\n",
       "      <td>-1.000<\/td>\n",
       "      <td>-1.000<\/td>\n",
       "      <td>-0.701<\/td>\n",
       "      <td>0.708<\/td>\n",
       "      <td>-0.722<\/td>\n",
       "      <td>...<\/td>\n",
       "      <td>0.883<\/td>\n",
       "      <td>-0.249<\/td>\n",
       "      <td>-1.000<\/td>\n",
       "      <td>-1.000<\/td>\n",
       "      <td>-1.000<\/td>\n",
       "      <td>-1.000<\/td>\n",
       "      <td>-1.000<\/td>\n",
       "      <td>-1.0<\/td>\n",
       "      <td>-1.0<\/td>\n",
       "      <td>6<\/td>\n",
       "    <\/tr>\n",
       "    <tr>\n",
       "      <th>560<\/th>\n",
       "      <td>-1.0<\/td>\n",
       "      <td>-1.0<\/td>\n",
       "      <td>-1.0<\/td>\n",
       "      <td>-1.0<\/td>\n",
       "      <td>-1.0<\/td>\n",
       "      <td>-1.000<\/td>\n",
       "      <td>-1.000<\/td>\n",
       "      <td>-1.000<\/td>\n",
       "      <td>0.023<\/td>\n",
       "      <td>0.782<\/td>\n",
       "      <td>...<\/td>\n",
       "      <td>0.610<\/td>\n",
       "      <td>1.000<\/td>\n",
       "      <td>0.472<\/td>\n",
       "      <td>-0.864<\/td>\n",
       "      <td>-1.000<\/td>\n",
       "      <td>-1.000<\/td>\n",
       "      <td>-1.000<\/td>\n",
       "      <td>-1.0<\/td>\n",
       "      <td>-1.0<\/td>\n",
       "      <td>6<\/td>\n",
       "    <\/tr>\n",
       "    <tr>\n",
       "      <th>...<\/th>\n",
       "      <td>...<\/td>\n",
       "      <td>...<\/td>\n",
       "      <td>...<\/td>\n",
       "      <td>...<\/td>\n",
       "      <td>...<\/td>\n",
       "      <td>...<\/td>\n",
       "      <td>...<\/td>\n",
       "      <td>...<\/td>\n",
       "      <td>...<\/td>\n",
       "      <td>...<\/td>\n",
       "      <td>...<\/td>\n",
       "      <td>...<\/td>\n",
       "      <td>...<\/td>\n",
       "      <td>...<\/td>\n",
       "      <td>...<\/td>\n",
       "      <td>...<\/td>\n",
       "      <td>...<\/td>\n",
       "      <td>...<\/td>\n",
       "      <td>...<\/td>\n",
       "      <td>...<\/td>\n",
       "      <td>...<\/td>\n",
       "    <\/tr>\n",
       "    <tr>\n",
       "      <th>1215<\/th>\n",
       "      <td>-1.0<\/td>\n",
       "      <td>-1.0<\/td>\n",
       "      <td>-1.0<\/td>\n",
       "      <td>-1.0<\/td>\n",
       "      <td>-1.0<\/td>\n",
       "      <td>-1.000<\/td>\n",
       "      <td>-1.000<\/td>\n",
       "      <td>-1.000<\/td>\n",
       "      <td>-0.290<\/td>\n",
       "      <td>0.972<\/td>\n",
       "      <td>...<\/td>\n",
       "      <td>0.573<\/td>\n",
       "      <td>0.529<\/td>\n",
       "      <td>0.133<\/td>\n",
       "      <td>-0.652<\/td>\n",
       "      <td>-1.000<\/td>\n",
       "      <td>-1.000<\/td>\n",
       "      <td>-1.000<\/td>\n",
       "      <td>-1.0<\/td>\n",
       "      <td>-1.0<\/td>\n",
       "      <td>6<\/td>\n",
       "    <\/tr>\n",
       "    <tr>\n",
       "      <th>1216<\/th>\n",
       "      <td>-1.0<\/td>\n",
       "      <td>-1.0<\/td>\n",
       "      <td>-1.0<\/td>\n",
       "      <td>-1.0<\/td>\n",
       "      <td>-1.0<\/td>\n",
       "      <td>-1.000<\/td>\n",
       "      <td>-1.000<\/td>\n",
       "      <td>-0.599<\/td>\n",
       "      <td>0.309<\/td>\n",
       "      <td>1.000<\/td>\n",
       "      <td>...<\/td>\n",
       "      <td>0.897<\/td>\n",
       "      <td>1.000<\/td>\n",
       "      <td>1.000<\/td>\n",
       "      <td>0.940<\/td>\n",
       "      <td>0.233<\/td>\n",
       "      <td>-0.474<\/td>\n",
       "      <td>-0.941<\/td>\n",
       "      <td>-1.0<\/td>\n",
       "      <td>-1.0<\/td>\n",
       "      <td>6<\/td>\n",
       "    <\/tr>\n",
       "    <tr>\n",
       "      <th>1217<\/th>\n",
       "      <td>-1.0<\/td>\n",
       "      <td>-1.0<\/td>\n",
       "      <td>-1.0<\/td>\n",
       "      <td>-1.0<\/td>\n",
       "      <td>-1.0<\/td>\n",
       "      <td>-1.000<\/td>\n",
       "      <td>-0.981<\/td>\n",
       "      <td>-0.572<\/td>\n",
       "      <td>0.687<\/td>\n",
       "      <td>0.592<\/td>\n",
       "      <td>...<\/td>\n",
       "      <td>0.269<\/td>\n",
       "      <td>-0.505<\/td>\n",
       "      <td>-0.962<\/td>\n",
       "      <td>-1.000<\/td>\n",
       "      <td>-1.000<\/td>\n",
       "      <td>-1.000<\/td>\n",
       "      <td>-1.000<\/td>\n",
       "      <td>-1.0<\/td>\n",
       "      <td>-1.0<\/td>\n",
       "      <td>6<\/td>\n",
       "    <\/tr>\n",
       "    <tr>\n",
       "      <th>1218<\/th>\n",
       "      <td>-1.0<\/td>\n",
       "      <td>-1.0<\/td>\n",
       "      <td>-1.0<\/td>\n",
       "      <td>-1.0<\/td>\n",
       "      <td>-1.0<\/td>\n",
       "      <td>-1.000<\/td>\n",
       "      <td>-0.921<\/td>\n",
       "      <td>-0.249<\/td>\n",
       "      <td>0.460<\/td>\n",
       "      <td>0.826<\/td>\n",
       "      <td>...<\/td>\n",
       "      <td>0.138<\/td>\n",
       "      <td>0.996<\/td>\n",
       "      <td>0.676<\/td>\n",
       "      <td>-0.381<\/td>\n",
       "      <td>-1.000<\/td>\n",
       "      <td>-1.000<\/td>\n",
       "      <td>-1.000<\/td>\n",
       "      <td>-1.0<\/td>\n",
       "      <td>-1.0<\/td>\n",
       "      <td>6<\/td>\n",
       "    <\/tr>\n",
       "    <tr>\n",
       "      <th>1219<\/th>\n",
       "      <td>-1.0<\/td>\n",
       "      <td>-1.0<\/td>\n",
       "      <td>-1.0<\/td>\n",
       "      <td>-1.0<\/td>\n",
       "      <td>-1.0<\/td>\n",
       "      <td>-1.000<\/td>\n",
       "      <td>-1.000<\/td>\n",
       "      <td>-1.000<\/td>\n",
       "      <td>-0.885<\/td>\n",
       "      <td>0.420<\/td>\n",
       "      <td>...<\/td>\n",
       "      <td>-0.084<\/td>\n",
       "      <td>0.692<\/td>\n",
       "      <td>1.000<\/td>\n",
       "      <td>0.991<\/td>\n",
       "      <td>0.144<\/td>\n",
       "      <td>-0.870<\/td>\n",
       "      <td>-1.000<\/td>\n",
       "      <td>-1.0<\/td>\n",
       "      <td>-1.0<\/td>\n",
       "      <td>6<\/td>\n",
       "    <\/tr>\n",
       "  <\/tbody>\n",
       "<\/table>\n",
       "<p>664 rows × 257 columns<\/p>\n",
       "<\/div>"
      ]
     },
     "metadata":{
      
     },
     "output_type":"display_data"
    }
   ],
   "metadata":{
    "datalore":{
     "node_id":"8D0WbkDlAN5A3s13mz5r3k",
     "type":"CODE",
     "hide_input_from_viewers":true,
     "hide_output_from_viewers":true
    }
   }
  },
  {
   "cell_type":"markdown",
   "source":[
    "**Comment**\n",
    "\n",
    "This dataset contains 1120 observations, 256 features and 2 classes. Each observation is a hand-written digit coded with 16x16 pixels (gray scale) and each feature measures the intensity of acertain pixel (value between -1 and 1).\n",
    "\n",
    "The class \"5\" indicates the hand-written digit is a five and the class \"6\" indicates it is a six.\n",
    "\n",
    "The dataset is slightly imbalanced with 664 sixes and only 556 fives."
   ],
   "attachments":{
    
   },
   "metadata":{
    "datalore":{
     "node_id":"AwQWJu4yJfqaJVEILlE6vE",
     "type":"MD",
     "hide_input_from_viewers":true,
     "hide_output_from_viewers":true
    }
   }
  },
  {
   "cell_type":"markdown",
   "source":[
    "## Principal Component Analysis (PCA)\n",
    "### Pre-processing\n",
    "\n",
    "When using PCA, it is necessary to standardize the data. Pixel values are already between -1 and 1, so we only need to center the data.\n",
    "Using what you have learned last time, center the data in `df_fives` and `df_sixes` respectively.\n",
    "\n",
    "*Hint: You can refer to the data preparation practical and use `sklearn`'s `StandardScaler`*.\n",
    "\n",
    "⚠️Centering means removing the mean value. You do not need to divide by the standard deviation. `sklearn`'s `StandardScaler` lets you do that, check its documentation to see how.\n",
    "⚠️Store the standardized data in new variables, because we will need the original data later.\n",
    "\n",
    "In fact, this step is not strictly necessary here, because we will use `sklearn`'s implementation of PCA, which already includes standardization. However, it is important to keep in mind the importance of this step (and to know how to do it yourself)."
   ],
   "attachments":{
    
   },
   "metadata":{
    "datalore":{
     "node_id":"AIghkbSXG8QibjrDv0fJiY",
     "type":"MD",
     "hide_input_from_viewers":false,
     "hide_output_from_viewers":false,
     "report_properties":{
      "rowId":"ocTAErkQsNJZPtQCZYSSq0"
     }
    }
   }
  },
  {
   "cell_type":"code",
   "source":[
    "from sklearn.preprocessing import StandardScaler\n",
    "\n",
    "scaler_centered = StandardScaler(with_std=False)\n",
    "\n",
    "df5_centered = pd.DataFrame(scaler_centered.fit_transform(df_fives)\/2)  # We divide by 2 to remain between -1 and +1\n",
    "df6_centered = pd.DataFrame(scaler_centered.fit_transform(df_sixes)\/2)  # We divide by 2 to remain between -1 and +1"
   ],
   "execution_count":8,
   "outputs":[
    
   ],
   "metadata":{
    "datalore":{
     "node_id":"Xm7mauuoAvtfcwDDMWneGD",
     "type":"CODE",
     "hide_input_from_viewers":true,
     "hide_output_from_viewers":true
    }
   }
  },
  {
   "cell_type":"markdown",
   "source":[
    "### Understanding what PCA does\n",
    "In this part, we will try to visualize what PCA does. For this, we will start with an \"average\" image, and progressively add PCA components. For this visualization step, we will only be using the dataframe containing the handwritten fives."
   ],
   "attachments":{
    
   },
   "metadata":{
    "datalore":{
     "node_id":"B8tgWotAgZQvEk4cKzqojp",
     "type":"MD",
     "hide_input_from_viewers":false,
     "hide_output_from_viewers":false,
     "report_properties":{
      "rowId":"MxUNpkJDR4H91pXvv5v4j2"
     }
    }
   }
  },
  {
   "cell_type":"markdown",
   "source":[
    "#### Step 1: Compute the \"average 5\"\n",
    "Create a vector (pandas Series, for example) that contains the \"mean 5\".\n",
    "Display this vector as an image. How do you interpret this ?"
   ],
   "attachments":{
    
   },
   "metadata":{
    "datalore":{
     "node_id":"bUVvM4bPYblJ8WUgd3AK0h",
     "type":"MD",
     "hide_input_from_viewers":false,
     "hide_output_from_viewers":false,
     "report_properties":{
      "rowId":"HfIn4agVfLgdpkRdf5pZ0Y"
     }
    }
   }
  },
  {
   "cell_type":"code",
   "source":[
    "avg_5 = df_fives.mean(axis = 0)\n",
    "\n",
    "show_image(avg_5.to_numpy())"
   ],
   "execution_count":9,
   "outputs":[
    {
     "data":{
      "image\/png":"[encoded data removed]"
     },
     "metadata":{
      "image\/png":{
       
      }
     },
     "output_type":"display_data"
    }
   ],
   "metadata":{
    "datalore":{
     "node_id":"vx4WFmzJJGMnybO7j8mG6g",
     "type":"CODE",
     "hide_input_from_viewers":false,
     "hide_output_from_viewers":false,
     "report_properties":{
      "rowId":"7HQBKbFpyyXP4OShLrbibZ"
     }
    }
   }
  },
  {
   "cell_type":"markdown",
   "source":[
    "**Answer**\n",
    "\n",
    "Each pixel of this image is the mean value of this pixel among the 556 observations of fives."
   ],
   "attachments":{
    
   },
   "metadata":{
    "datalore":{
     "node_id":"07741jbExjJhWVeTKhajNp",
     "type":"MD",
     "hide_input_from_viewers":true,
     "hide_output_from_viewers":true
    }
   }
  },
  {
   "cell_type":"markdown",
   "source":[
    "#### Step 2: Obtain the components from PCA\n",
    "Read the code cell below. Using the documentation, explain what is done at each step."
   ],
   "attachments":{
    
   },
   "metadata":{
    "datalore":{
     "node_id":"PPO4dXnY99svfJdA62ehob",
     "type":"MD",
     "hide_input_from_viewers":false,
     "hide_output_from_viewers":false,
     "report_properties":{
      "rowId":"ozGpBhuW0TLjsNdp0QV8pe"
     }
    }
   }
  },
  {
   "cell_type":"code",
   "source":[
    "pca = PCA()                              # Instantiate the PCA operator\n",
    "pca.fit(df_fives)                        # Calculate the components and the projections for the dataset\n",
    "components5 = pca.components_            # Store the value of the PCA components\n",
    "projection5 = pca.transform(df_fives)    # Store the value of the projections relative to the PCA components"
   ],
   "execution_count":10,
   "outputs":[
    
   ],
   "metadata":{
    "datalore":{
     "node_id":"1whhPjaKhsDWoL6bV6wzGf",
     "type":"CODE",
     "hide_input_from_viewers":false,
     "hide_output_from_viewers":false,
     "report_properties":{
      "rowId":"BkHuzwErRqSWOJLrcy3cv3"
     }
    }
   }
  },
  {
   "cell_type":"markdown",
   "source":[
    "#### Step 3: Reconstruct an image progressively\n",
    "In this part, we will reconstruct an image from its PCA components.\n",
    "\n",
    "**Questions**:\n",
    "- Understand and explain the line marked with a question mark ❓.\n",
    "- Observe the resulting images. How many components are necessary to obtain a \"nice\" image? How do you interpret this?\n",
    "- By modifying the code below, try displaying other instances of the number five from the dataset."
   ],
   "attachments":{
    
   },
   "metadata":{
    "datalore":{
     "node_id":"Xf9yPJfIasfeMZvTqzr162",
     "type":"MD",
     "hide_input_from_viewers":false,
     "hide_output_from_viewers":false,
     "report_properties":{
      "rowId":"76wEs3vpf4XVzN6TBIDBzk"
     }
    }
   }
  },
  {
   "cell_type":"markdown",
   "source":[
    "**Answers**\n",
    "\n",
    "- By definition of the PCA, the original image is equal to the sum of the mean image and the products of the PCA components with the projection coefficient relative to the component. The line with a question marks reconstructs the original image step by step starting from the mean image (cf. code below).\n",
    "- It depends on how you define a \"nice\" image but the first components inscreases the image quality far more than the latest. The image is quite \"nice\" already using only 10 of the 256 components.\n",
    "- To display another instance of the number five, you simply have to change the \"image_index\" value in the cell below to a number between 0 and 555 and run the code."
   ],
   "attachments":{
    
   },
   "metadata":{
    "datalore":{
     "node_id":"Z7YNpH75Rtkiff2003vFE7",
     "type":"MD",
     "hide_input_from_viewers":true,
     "hide_output_from_viewers":true
    }
   }
  },
  {
   "cell_type":"code",
   "source":[
    "image_index = 3\n",
    "original_image = df_fives.iloc[image_index].to_numpy()\n",
    "show_image(original_image, \"Original image\")      # we first display the original image\n",
    "\n",
    "reconstructed_image = df_fives.mean().to_numpy()\n",
    "show_image(reconstructed_image, \"Mean image\") # then we display the mean image\n",
    "\n",
    "for i in range(0,5): # and finally we reconstruct the image using the components\n",
    "    reconstructed_image = reconstructed_image + projection5[image_index,i] * components5[i] # ❓\n",
    "    show_image(reconstructed_image, f\"Using {i+1} component{'s' if i>0 else ''}\")\n",
    "\n",
    "for i in range(5,10): # and finally we reconstruct the image using the components\n",
    "    reconstructed_image = reconstructed_image + projection5[image_index,i] * components5[i] # ❓\n",
    "show_image(reconstructed_image, f\"Using {10} components\")\n",
    "\n",
    "for i in range(10,50): # and finally we reconstruct the image using the components\n",
    "    reconstructed_image = reconstructed_image + projection5[image_index,i] * components5[i] # ❓\n",
    "show_image(reconstructed_image, f\"Using {50} components\")\n",
    "\n",
    "for i in range(50,256): # and finally we reconstruct the image using the components\n",
    "    reconstructed_image = reconstructed_image + projection5[image_index,i] * components5[i] # ❓\n",
    "show_image(reconstructed_image, f\"Using {256} components\")"
   ],
   "execution_count":11,
   "outputs":[
    {
     "data":{
      "image\/png":"[encoded data removed]"
     },
     "metadata":{
      "image\/png":{
       
      }
     },
     "output_type":"display_data"
    },
    {
     "data":{
      "image\/png":"[encoded data removed]"
     },
     "metadata":{
      "image\/png":{
       
      }
     },
     "output_type":"display_data"
    },
    {
     "data":{
      "image\/png":"[encoded data removed]"
     },
     "metadata":{
      "image\/png":{
       
      }
     },
     "output_type":"display_data"
    },
    {
     "data":{
      "image\/png":"[encoded data removed]"
     },
     "metadata":{
      "image\/png":{
       
      }
     },
     "output_type":"display_data"
    },
    {
     "data":{
      "image\/png":"[encoded data removed]"
     },
     "metadata":{
      "image\/png":{
       
      }
     },
     "output_type":"display_data"
    },
    {
     "data":{
      "image\/png":"[encoded data removed]"
     },
     "metadata":{
      "image\/png":{
       
      }
     },
     "output_type":"display_data"
    },
    {
     "data":{
      "image\/png":"[encoded data removed]"
     },
     "metadata":{
      "image\/png":{
       
      }
     },
     "output_type":"display_data"
    },
    {
     "data":{
      "image\/png":"[encoded data removed]"
     },
     "metadata":{
      "image\/png":{
       
      }
     },
     "output_type":"display_data"
    },
    {
     "data":{
      "image\/png":"[encoded data removed]"
     },
     "metadata":{
      "image\/png":{
       
      }
     },
     "output_type":"display_data"
    },
    {
     "data":{
      "image\/png":"[encoded data removed]"
     },
     "metadata":{
      "image\/png":{
       
      }
     },
     "output_type":"display_data"
    }
   ],
   "metadata":{
    "datalore":{
     "node_id":"ltBQykdyQC7vX1UuXJxDtV",
     "type":"CODE",
     "hide_input_from_viewers":false,
     "hide_output_from_viewers":false,
     "report_properties":{
      "rowId":"e3EKWy3XNAApX7ZMUciXAF"
     }
    }
   }
  },
  {
   "cell_type":"markdown",
   "source":[
    "### Using PCA for classification\n",
    "A possible use for dimensionality reduction is to help machine learning algorithms.\n",
    "In the code cell below, we use PCA for the entire dataset (numbers 5 and 6) and store the projection coefficients in the `projection` variable.\n",
    "`df_projection` contains the same data as a `pandas` dataframe."
   ],
   "attachments":{
    
   },
   "metadata":{
    "datalore":{
     "node_id":"TSB1SeDSfTOxSdLdlQW2pa",
     "type":"MD",
     "hide_input_from_viewers":false,
     "hide_output_from_viewers":false,
     "report_properties":{
      "rowId":"yf91MrFDLxsTgv2nYCiUOS"
     }
    }
   }
  },
  {
   "cell_type":"code",
   "source":[
    "df_unlabeled = df.drop(\"number\", inplace=False, axis=1)\n",
    "pca = PCA()\n",
    "pca.fit(df_unlabeled)\n",
    "projection = pca.transform(df_unlabeled)\n",
    "\n",
    "df_projection = pd.DataFrame(projection)\n",
    "df_projection[\"number\"] = df[\"number\"] # label the data for visualization and classification"
   ],
   "execution_count":12,
   "outputs":[
    
   ],
   "metadata":{
    "datalore":{
     "node_id":"qvgyU0h6wXtOlMEX5Yi7Zi",
     "type":"CODE",
     "hide_input_from_viewers":false,
     "hide_output_from_viewers":false,
     "report_properties":{
      "rowId":"bfnZKX3E7kmGi7tvxqIuuL"
     }
    }
   }
  },
  {
   "cell_type":"markdown",
   "source":[
    "#### Questions\n",
    "- Using the code in the cell below, display a two-dimensional `scatterplot` with a different color for 5's and 6's. Which dimensions should you use?\n",
    "- What can you observe? How do you think this can help machine learning algorithms?\n",
    "- Try changing the features you display. How does the `scatterplot` change? How do you interpret this?\n",
    "- Try performing a prediction on the two-dimensional dataset. Compare the results with the baseline test on the full dataset, both in terms of accuracy and computational time. How do you interpret this?"
   ],
   "attachments":{
    
   },
   "metadata":{
    "datalore":{
     "node_id":"IvqYT5tWydLHb4FOUYApJ6",
     "type":"MD",
     "hide_input_from_viewers":false,
     "hide_output_from_viewers":false,
     "report_properties":{
      "rowId":"kV4DldNNCvNWFmhHXPbMHj"
     }
    }
   }
  },
  {
   "cell_type":"markdown",
   "source":[
    "**Answers**\n",
    "\n",
    "\n",
    "- The most precious information to differentiate the observations is contained in the first projections coefficients of the PCA analysis. Consequently, for a two-dimensional scatterplot, we should use the two first projection coefficients (cf. code below).\n",
    "\n",
    "- Only with these two dimensions, fives and sixes occupy areas of the graph that have small intersections. It means that these two dimensions are already providing the opportunity to train a classifier to be fairly accurate. Using two features instead of 256 could reduce the computing time substantially.\n",
    "\n",
    "\n",
    "- The points are more mixed when using other pairs of projection coefficients, which confirms that the most discriminant information is contained in the first projection coefficients.\n",
    "\n",
    "\n",
    "- The prediction accuracy drops from 98.5% to 97.3% and decreased by 25%. Data scientists try to get the best prediction accuracy with the lowest running time. With huge datasets, running time becomes a constraint. PCA is therefore an interesting method to decrease the running time without affecting the performance of the model too much. However, to compare both methods fairly, we should add the running time of the PCA to the running time of the model with PCA before comparing it to the running time of the model without PCA. Though in this example, the PCA running time can be neglected in front of the KNN algorithm running time"
   ],
   "attachments":{
    
   },
   "metadata":{
    "datalore":{
     "node_id":"0Hw1gsVl0thqgXfyOFCgnS",
     "type":"MD",
     "hide_input_from_viewers":true,
     "hide_output_from_viewers":true
    }
   }
  },
  {
   "cell_type":"code",
   "source":[
    "dimension1 = 0   # should be an integer indicating which PCA component to pick\n",
    "dimension2 = 1    # should be an integer indicating which PCA component to pick\n",
    "df_two_dimensional = df_projection[[dimension1, dimension2, \"number\"]]\n",
    "\n",
    "sns.scatterplot(data = df_two_dimensional, x = dimension1, y = dimension2, hue=\"number\")"
   ],
   "execution_count":13,
   "outputs":[
    {
     "data":{
      "text\/plain":[
       "<Axes: xlabel='0', ylabel='1'>"
      ]
     },
     "metadata":{
      
     },
     "output_type":"display_data"
    },
    {
     "data":{
      "image\/png":"[encoded data removed]"
     },
     "metadata":{
      "image\/png":{
       
      }
     },
     "output_type":"display_data"
    }
   ],
   "metadata":{
    "datalore":{
     "node_id":"KCK1Yd5Er2VSMEwy2p61oL",
     "type":"CODE",
     "hide_input_from_viewers":false,
     "hide_output_from_viewers":false,
     "report_properties":{
      "rowId":"VtVzPh0c6EN5VFwYVIb6rF"
     }
    }
   }
  },
  {
   "cell_type":"code",
   "source":[
    "run_measure_time(prediction_knn, data = df)\n",
    "run_measure_time(prediction_knn, data = df_two_dimensional)"
   ],
   "execution_count":14,
   "outputs":[
    {
     "name":"stdout",
     "text":[
      "Max train score 100.0 % for k = [1]\n",
      "Max test score 98.51116625310173 % for k = [1]\n",
      "--- 1.0392813682556152 seconds ---\n",
      "Max train score 100.0 % for k = [1]\n",
      "Max test score 97.27047146401985 % for k = [12]\n",
      "--- 0.7599763870239258 seconds ---\n"
     ],
     "output_type":"stream"
    }
   ],
   "metadata":{
    "datalore":{
     "node_id":"XgsiZKy5Tu06mzlXmXk43G",
     "type":"CODE",
     "hide_input_from_viewers":true,
     "hide_output_from_viewers":true
    }
   }
  }
 ],
 "metadata":{
  "kernelspec":{
   "display_name":"Python",
   "language":"python",
   "name":"python"
  },
  "datalore":{
   "computation_mode":"JUPYTER",
   "package_manager":"pip",
   "base_environment":"default",
   "packages":[
    
   ],
   "report_row_ids":[
    "JAvPtdhbxQK9JUtEtiHJlw",
    "XFw2oh7OYI5QPWpowngD1z",
    "30fGR9M62B6fGRPPsdcska",
    "3mb4APQAjKrBDKvcUewchQ",
    "6Hgmp1ghJ2xJ9kCnWtvqe9",
    "2JWJZiOw6Ed9Dmm0SVjaL2",
    "XLsGmbir5pyJGlbL44vUGP",
    "2VZckmwFZ0qWGeoN5rrc7Q",
    "QMSegISMJxZBWUxo992yox",
    "uu1hrDYalSNF0uJUnJtGOJ",
    "9hUiqEpX3QzEiOyFSUVCkl",
    "6hvIuhnGjZLHo5xlgBPP3h",
    "NP315Me3BH5uu0kGyPksbt",
    "tfJUeEBjmrVdDLNzKeBMNp",
    "ocTAErkQsNJZPtQCZYSSq0",
    "hGJf2562hG1J5x2nzdj3gE",
    "MxUNpkJDR4H91pXvv5v4j2",
    "HfIn4agVfLgdpkRdf5pZ0Y",
    "7HQBKbFpyyXP4OShLrbibZ",
    "ozGpBhuW0TLjsNdp0QV8pe",
    "BkHuzwErRqSWOJLrcy3cv3",
    "76wEs3vpf4XVzN6TBIDBzk",
    "e3EKWy3XNAApX7ZMUciXAF",
    "gfO7jmH80qebR1GrPREMJc",
    "7wQxpwDfRIIGuQkVXpSlth",
    "SAtYPSAJCYrlmnsHnIUK7n",
    "yf91MrFDLxsTgv2nYCiUOS",
    "bfnZKX3E7kmGi7tvxqIuuL",
    "kV4DldNNCvNWFmhHXPbMHj",
    "VtVzPh0c6EN5VFwYVIb6rF",
    "s5fXqq9ScaY8NAZqgXIIVr"
   ],
   "version":3
  }
 },
 "nbformat":4,
 "nbformat_minor":4
}